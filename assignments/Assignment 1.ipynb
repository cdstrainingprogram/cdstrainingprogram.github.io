{
 "cells": [
  {
   "cell_type": "markdown",
   "metadata": {},
   "source": [
    "<p style=\"color:dodgerblue; font-size:30px; font-weight:bold\">Assignment 1</p>\n",
    "<p style=\"color:black; font-size:50px; font-weight:bold\">Intro to R</p>\n",
    "<br>\n",
    "<p style=\"color:red; font-size:18px; font-weight:bold\">February 15th, 2017</p>\n",
    "\n",
    "### Overview\n",
    "**How to submit this:** Submit this assignment through CMS.\n",
    "\n",
    "**Objectives:** Become familiar with the data structures and syntax of R, learn how to perform initial analysis on a csv data set, visualize findings using the built-in “plot” function.\n",
    "\n",
    "## Problem 1 - Data Structure\n",
    "*Includes : rbind, data.frame, find mean, find std, find min, factor*\n",
    "\n",
    "As a member of Cornell Data Science, you decided to investigate the distribution of gender across the majors from College of Engineering, using R. Following is a table and stats based on the real data of 2016 Fall class from Cornell Engineering Website. Your task is to create data frame of this table in R and perform initial analysis of the data. \n",
    "\n",
    "<table border=\"2\" bordercolor=\"\" cellpadding=\"3\" cellspacing=\"3\" style=\"background-color: white; border-color: lavender; width: 100%px;\">\n",
    "<tbody>\n",
    "<tr align=\"center\">\n",
    "<th><span style=\"color: purple;\"></span></th>\n",
    "<th><span style=\"color: purple;\">Biomedical Engineering</span></th>\n",
    "<th><span style=\"color: purple;\">Computer Science</span></th>\n",
    "<th><span style=\"color: purple;\">Info Science</span></th>\n",
    "<th><span style=\"color: purple;\">Chemical Engineering</span></th>\n",
    "<th><span style=\"color: purple;\">Operation Research</span></th>\n",
    "</tr>\n",
    "<tr align=\"center\">\n",
    "<th><span style=\"color: blue;\">Total Male Students</span></th>\n",
    "<th>23</th>\n",
    "<th>326</th>\n",
    "<th>20</th>\n",
    "<th>88</th>\n",
    "<th>110</th>\n",
    "</tr>\n",
    "<tr align=\"center\">\n",
    "<th><span style=\"color: blue;\">Total Female Students</span></th>\n",
    "<th>65</th>\n",
    "<th>134</th>\n",
    "<th>23</th>\n",
    "<th>99</th>\n",
    "<th>107</th>\n",
    "</tr>\n",
    "</tbody></table>\n",
    "\n",
    "https://www.engineering.cornell.edu/resources/registrar/stats.cfm\n",
    "\n",
    "### 1-1 Create Vectors\n",
    "\n",
    "From the table above, create 1 character vector of college majors, 2 numeric vectors that store the number of students by gender. Store each vectors into a variable and name *Major, Male, Female* accordingly."
   ]
  },
  {
   "cell_type": "code",
   "execution_count": 1,
   "metadata": {
    "collapsed": true
   },
   "outputs": [],
   "source": [
    "# Write your codes here"
   ]
  },
  {
   "cell_type": "markdown",
   "metadata": {},
   "source": [
    "### 1-2 Create a Data.frame\n",
    "\n",
    "Combine 3 vectors from previous questions and create a Data.frame. Store the object into a variable and name it *GenderDist*. See what *GenderDist* prints. What about *GenderDist[1]*? *GenderDist$Male[1]*?"
   ]
  },
  {
   "cell_type": "code",
   "execution_count": null,
   "metadata": {
    "collapsed": true
   },
   "outputs": [],
   "source": []
  },
  {
   "cell_type": "markdown",
   "metadata": {},
   "source": [
    "### 1-3 Max, Mean, Std\n",
    "\n",
    "Use built-in function, max( ), mean( ), sd( ) to find the max value, mean value and the standard deviation of female students from *GenderDist*."
   ]
  },
  {
   "cell_type": "code",
   "execution_count": null,
   "metadata": {
    "collapsed": true
   },
   "outputs": [],
   "source": []
  },
  {
   "cell_type": "markdown",
   "metadata": {},
   "source": [
    "Now, you decided to add 3 more columns, *Material Science, Mechanical Engineering* and *Unaffiliated*.\n",
    "\n",
    "<table border=\"2\" bordercolor=\"\" cellpadding=\"3\" cellspacing=\"3\" style=\"background-color: white; border-color: lavender; width: 100%px;\">\n",
    "<tbody>\n",
    "<tr align=\"center\">\n",
    "<th><span style=\"color: purple;\"></span></th>\n",
    "<th><span style=\"color: purple;\">Material Science</span></th>\n",
    "<th><span style=\"color: purple;\">Mechanical Engineering</span></th>\n",
    "<th><span style=\"color: purple;\">Unaffiliated</span></th>\n",
    "</tr>\n",
    "<tr align=\"center\">\n",
    "<th><span style=\"color: blue;\">Total Male Students</span></th>\n",
    "<th>21</th>\n",
    "<th>205</th>\n",
    "<th>746</th>\n",
    "</tr>\n",
    "<tr align=\"center\">\n",
    "<th><span style=\"color: blue;\">Total Female Students</span></th>\n",
    "<th>32</th>\n",
    "<th>78</th>\n",
    "<th>690</th>\n",
    "</tr>\n",
    "</tbody></table>\n",
    "\n",
    "https://www.engineering.cornell.edu/resources/registrar/stats.cfm\n",
    "\n",
    "### 1-4 Combine 2 Tables\n",
    "\n",
    "Create a new data frame of the 3 new categories, and store it into a variable. Once you finish creating 2 tables, combine 2 tables and create a new data frame, name it *NewGenderDist*."
   ]
  },
  {
   "cell_type": "code",
   "execution_count": null,
   "metadata": {
    "collapsed": true
   },
   "outputs": [],
   "source": []
  },
  {
   "cell_type": "markdown",
   "metadata": {},
   "source": [
    "### 1-5 Create a New Column\n",
    "\n",
    "You want to see the difference of enrollment by gender across majors. Create a new column in *NewGenderDist* which stores values by subtracting male enrollment from female enrollment. For example, the difference value of Chemical Engineering should be 11 ( 99 - 88 = 11)."
   ]
  },
  {
   "cell_type": "code",
   "execution_count": null,
   "metadata": {
    "collapsed": true
   },
   "outputs": [],
   "source": []
  },
  {
   "cell_type": "markdown",
   "metadata": {},
   "source": [
    "<br>\n",
    "## Problem 2 - Initial Analysis\n",
    "*Includes:  str, summary, subset, na.rm = TRUE*\n",
    "\n",
    "One of the most infamous shipwrecks in history, the sinking of the RMS Titanic had killed 1502 out of 2224 passengers and crew. Although there was some element of luck involved in surviving the sinking, some groups of people were more likely to survive than others, such as women, children, and the upper-class. In this assignment, your task is to read in the given csv file and do initial analysis of the dataset using basic feature engineerings and basic visual plots.\n",
    "\n",
    "### 2-1 Initial Setup\n",
    "\n",
    "Download “train.csv” dataset from https://www.kaggle.com/c/titanic/data. Use read.csv(“*type file name here*”) function to store the csv file into a variable and name it *Titanic*.\n",
    "(Note: you can navigate through different directories using setwd(“*type file location here*”) and check your current working directory in your R console using getwd() function.)"
   ]
  },
  {
   "cell_type": "code",
   "execution_count": null,
   "metadata": {
    "collapsed": true
   },
   "outputs": [],
   "source": []
  },
  {
   "cell_type": "markdown",
   "metadata": {},
   "source": [
    "### 2-2 Summary of the Dataset\n",
    "\n",
    "R provides a useful summary of a data.frame with str() and summary() functions. How many observations and variables does the Titanic dataset have? How many variables have *Factor* mode? How many missing values does variable *Age* have?"
   ]
  },
  {
   "cell_type": "code",
   "execution_count": null,
   "metadata": {
    "collapsed": true
   },
   "outputs": [],
   "source": [
    "# write codes here\n",
    "# any non-code answers should be written in the comments"
   ]
  },
  {
   "cell_type": "markdown",
   "metadata": {},
   "source": [
    "### 2-3 Subset of Data\n",
    "\n",
    "While skimming through the data, you found values smaller than 1 in *Age* category and decided to extract a vector only containing those values. Perform this operation by using built-in subset() function in R. Your final result should print an age vector with values less than 1."
   ]
  },
  {
   "cell_type": "code",
   "execution_count": null,
   "metadata": {
    "collapsed": true
   },
   "outputs": [],
   "source": []
  },
  {
   "cell_type": "markdown",
   "metadata": {},
   "source": [
    "Then create a male-only subset and store it into a variable *MalePassenger*."
   ]
  },
  {
   "cell_type": "code",
   "execution_count": null,
   "metadata": {
    "collapsed": true
   },
   "outputs": [],
   "source": []
  },
  {
   "cell_type": "markdown",
   "metadata": {},
   "source": [
    "### 2-4 Max, Mean, Std\n",
    "\n",
    "Use built-in function, max( ), mean( ), sd( ) to find the max value, mean value and the standard deviation of Male passengers’ Age. You might need to an extra step from 1-3 in order to get right outputs."
   ]
  },
  {
   "cell_type": "code",
   "execution_count": null,
   "metadata": {
    "collapsed": true
   },
   "outputs": [],
   "source": []
  },
  {
   "cell_type": "markdown",
   "metadata": {},
   "source": [
    "<br>\n",
    "## Karma\n",
    "Optional problems for additional practice\n",
    "\n",
    "Karma questions don't count toward your grading (in other words, as long as you finished Problem 1 and 2, your assignment will be complete even if you don't try any Karmas). It is still a good practice to try them if you have time.\n",
    "\n",
    "### K-1 Largest Prime Factor\n",
    "\n",
    "Write a function in R that returns the largest prime factor of a given number (if the number is less than 1, return NULL). **(Par: 10 lines)**"
   ]
  },
  {
   "cell_type": "code",
   "execution_count": null,
   "metadata": {
    "collapsed": true
   },
   "outputs": [],
   "source": []
  }
 ],
 "metadata": {
  "anaconda-cloud": {},
  "kernelspec": {
   "display_name": "R",
   "language": "R",
   "name": "ir"
  },
  "language_info": {
   "codemirror_mode": "r",
   "file_extension": ".r",
   "mimetype": "text/x-r-source",
   "name": "R",
   "pygments_lexer": "r",
   "version": "3.3.2"
  }
 },
 "nbformat": 4,
 "nbformat_minor": 0
}
