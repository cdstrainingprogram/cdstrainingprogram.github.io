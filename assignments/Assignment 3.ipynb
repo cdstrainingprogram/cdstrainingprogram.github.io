{
 "cells": [
  {
   "cell_type": "markdown",
   "metadata": {},
   "source": [
    "<p style=\"color:dodgerblue; font-size:30px; font-weight:bold\">Assignment 3</p>\n",
    "<p style=\"color:black; font-size:50px; font-weight:bold\">Data Visualization</p>\n",
    "<br>\n",
    "<p style=\"color:red; font-size:18px; font-weight:bold\">March 1st, 2017</p>\n",
    "\n",
    "### Overview\n",
    "**How to submit this:** Submit this assignment through CMS.\n",
    "\n",
    "**Objectives:** Become familiar with the data visualization using ggplot2 and other useful packages in R, and learn how to produce effective visual summary of data.\n",
    "\n",
    "## Problem 1 - Basic Data Visualization\n",
    "*Includes: plot, hist, boxplot, density plot, correlation analysis, scatterplot3d*\n",
    "\n",
    "With the mortality rate of 3% each year, breast cancer is the second leading cause of cancer death in women. However, breast cancer can be classified into two categories depending on its behavior: either benign or malignant. Your task is to visualize the given dataset and observe what characteristics each type of breast cancer shows.\n",
    "\n",
    "### 1-0 Initial Setup\n",
    "Go to the Kaggle website (https://www.kaggle.com/uciml/breast-cancer-wisconsin-data) and download the zip file for the csv file. Store the csv file and name it “cancer”."
   ]
  },
  {
   "cell_type": "code",
   "execution_count": null,
   "metadata": {
    "collapsed": false
   },
   "outputs": [],
   "source": []
  },
  {
   "cell_type": "markdown",
   "metadata": {},
   "source": [
    "### 1-1 Basic Data Visualization with Histogram\n",
    "\n",
    "We are going to do some basic data visualization with built-in functions. First, build a histogram of *area_se* variable."
   ]
  },
  {
   "cell_type": "code",
   "execution_count": null,
   "metadata": {
    "collapsed": false
   },
   "outputs": [],
   "source": []
  },
  {
   "cell_type": "markdown",
   "metadata": {},
   "source": [
    "You will observe a big skew in your graph. Let’s adjust the x-range from 0 to 150."
   ]
  },
  {
   "cell_type": "code",
   "execution_count": null,
   "metadata": {
    "collapsed": false
   },
   "outputs": [],
   "source": []
  },
  {
   "cell_type": "markdown",
   "metadata": {},
   "source": [
    "Now, the boxes seem to be too thick to visualize the details. Choose a reasonable number of breaks so that the bar width becomes 10. (This means that you should see 5 bars in each 50 intervals.)"
   ]
  },
  {
   "cell_type": "code",
   "execution_count": null,
   "metadata": {
    "collapsed": false
   },
   "outputs": [],
   "source": []
  },
  {
   "cell_type": "markdown",
   "metadata": {},
   "source": [
    "### 1-2 Density Plot\n",
    "\n",
    "For this sub-problem, change our histogram to the density plot. In other words, make a density plot for *area_se* and set the x range from 0 to 150."
   ]
  },
  {
   "cell_type": "code",
   "execution_count": null,
   "metadata": {
    "collapsed": true
   },
   "outputs": [],
   "source": []
  },
  {
   "cell_type": "markdown",
   "metadata": {},
   "source": [
    "### 1-3 Correlation Analysis\n",
    "\n",
    "Let's do the correlation analysis among *compactness_mean, concavity_mean, concave.points_mean*, and *symmetry_mean*. Which two variables show the highest correlation?"
   ]
  },
  {
   "cell_type": "code",
   "execution_count": 1,
   "metadata": {
    "collapsed": true
   },
   "outputs": [],
   "source": [
    "# your code here\n",
    "# write any non-code answer as a comment"
   ]
  },
  {
   "cell_type": "markdown",
   "metadata": {},
   "source": [
    "Let's make a plot using built-in plot function with the two variables that you indicated above."
   ]
  },
  {
   "cell_type": "code",
   "execution_count": null,
   "metadata": {
    "collapsed": true
   },
   "outputs": [],
   "source": []
  },
  {
   "cell_type": "markdown",
   "metadata": {},
   "source": [
    "### 1-4 Make GG Plot Again\n",
    "\n",
    "So far we have used the built-in visualizations. They are easy, basic, and can be done with, perhaps 1 year of programming experience. But somehow, they are really unintuitive and cumbersome, and I, ~~Grie~~ Data Scientist, want to make something better.\n",
    "\n",
    "Let's change the previous plot into ggplot. Create a ggplot using same variables as 1-3, and add colors to the points so that we can distinguish the Benign ones and Malignant ones."
   ]
  },
  {
   "cell_type": "code",
   "execution_count": null,
   "metadata": {
    "collapsed": true
   },
   "outputs": [],
   "source": []
  },
  {
   "cell_type": "markdown",
   "metadata": {},
   "source": [
    "### 1-5 Box Plot\n",
    "\n",
    "I love box plots because it was the first thing I learned when I took AP Statistics back in the good old days (Just kidding. It has been only a year for me since I took it in high school).\n",
    "But drawing them by hands is a pain.\n",
    "\n",
    "So let's make a box plot using R. Make a boxplot of *radius_worst* by *diagnosis*. In other words, your plot should have two boxplots in one picture, one for Benign cancer and the other for Malignant cancer. Use ggplot for this question."
   ]
  },
  {
   "cell_type": "code",
   "execution_count": null,
   "metadata": {
    "collapsed": true
   },
   "outputs": [],
   "source": []
  },
  {
   "cell_type": "markdown",
   "metadata": {},
   "source": [
    "### 1-6 Scatterplot 3D\n",
    "\n",
    "I know solving problems takes a long time, and some of you will be cursing by now, but please understand that making questions also takes a long time. I'm also suffering. It's all for the sake of learning. Keep it up.\n",
    "\n",
    "The last thing you will be doing for Problem 1 is Scatterplot 3D. Make a 3d scatterplot of *texture_worst (x-axis), radius_worst (y-axis)*, and *concave.points_worst (z-axis)*. Color Benign one with darkgreen, and malignant one with red. Choose a proper name for the plot."
   ]
  },
  {
   "cell_type": "code",
   "execution_count": null,
   "metadata": {
    "collapsed": true
   },
   "outputs": [],
   "source": []
  },
  {
   "cell_type": "markdown",
   "metadata": {},
   "source": [
    "<br>\n",
    "## Problem 2 - Advanced Data Visualization\n",
    "*Includes : map, contour plot, plotly*\n",
    "\n",
    "I'm supposed to write an introductory paragraph for each new problem that I make (just like Problem 1), but it's a prelim week for me as well, I'm quite overwhelmed by the amount of my workload, ~~and rip my gpa~~, so I will skip the introduction paragraph and directly go to the question.\n",
    "\n",
    "\n",
    "### 2-0 Initial Setup\n",
    "Go to the Kaggle website (https://www.kaggle.com/c/predict-west-nile-virus/data) and download the **train.csv.zip** file for the csv file. Store the csv file and name it “nile”."
   ]
  },
  {
   "cell_type": "code",
   "execution_count": null,
   "metadata": {
    "collapsed": true
   },
   "outputs": [],
   "source": []
  },
  {
   "cell_type": "markdown",
   "metadata": {},
   "source": [
    "### 2-1 Map Map\n",
    "There are different types of maps around us. World map, roadmap, Bitmap, HashMap, Karnaugh Map, ...\n",
    "\n",
    "This time, we are going to make a map using the dataset given and plot the points onto the map.\n",
    "Create a google \"satellite\" map of the location Chicago IL, with the zoom factor 11."
   ]
  },
  {
   "cell_type": "code",
   "execution_count": null,
   "metadata": {
    "collapsed": true
   },
   "outputs": [],
   "source": []
  },
  {
   "cell_type": "markdown",
   "metadata": {},
   "source": [
    "Now, add the points from our dataset to the map. Set the point color to red."
   ]
  },
  {
   "cell_type": "code",
   "execution_count": null,
   "metadata": {
    "collapsed": true
   },
   "outputs": [],
   "source": []
  },
  {
   "cell_type": "markdown",
   "metadata": {},
   "source": [
    "### 2-2 Contour Plot\n",
    "\n",
    "Now, let's add a contour map to our previous map, using Longitude and Latitude. The final result should contain both the red points from 2-1 and the contours."
   ]
  },
  {
   "cell_type": "code",
   "execution_count": null,
   "metadata": {
    "collapsed": true
   },
   "outputs": [],
   "source": []
  },
  {
   "cell_type": "markdown",
   "metadata": {},
   "source": [
    "### 2-3 Interactive Plotly\n",
    "We are almost done! Let's make an interactive plot for this last sub-problem.\n",
    "\n",
    "Use plotly package to build a simple plot using same variables that you chose in 1-3. Use ggplot first to construct the plot."
   ]
  },
  {
   "cell_type": "code",
   "execution_count": null,
   "metadata": {
    "collapsed": true
   },
   "outputs": [],
   "source": []
  },
  {
   "cell_type": "markdown",
   "metadata": {},
   "source": [
    "Nice work. Hope you all succeed in your prelims and see you next week (or tomorrow if you have waited until Tuesday night to finish it :) It's okay. It happens to me everytime as well)."
   ]
  },
  {
   "cell_type": "markdown",
   "metadata": {},
   "source": [
    "<br>\n",
    "## Karma\n",
    "Optional problems for additional practice\n",
    "\n",
    "### K-1 Polar Graphs\n",
    "Construct an R animation that draws r = sin(3θ) from 0 <= θ <= π and save it to a GIF file.\n",
    "\n",
    "![](https://docs.google.com/uc?id=0B48p6TjIEUWZQ0ZNQUFpdlJpOGc)"
   ]
  },
  {
   "cell_type": "code",
   "execution_count": null,
   "metadata": {
    "collapsed": true
   },
   "outputs": [],
   "source": []
  }
 ],
 "metadata": {
  "anaconda-cloud": {},
  "kernelspec": {
   "display_name": "R",
   "language": "R",
   "name": "ir"
  },
  "language_info": {
   "codemirror_mode": "r",
   "file_extension": ".r",
   "mimetype": "text/x-r-source",
   "name": "R",
   "pygments_lexer": "r",
   "version": "3.3.2"
  }
 },
 "nbformat": 4,
 "nbformat_minor": 0
}
