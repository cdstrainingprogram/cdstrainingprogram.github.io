{
 "cells": [
  {
   "cell_type": "markdown",
   "metadata": {},
   "source": [
    "<p style=\"color:dodgerblue; font-size:30px; font-weight:bold\">Assignment 4</p>\n",
    "<p style=\"color:black; font-size:50px; font-weight:bold\">Unsupervised Learning</p>\n",
    "<br>\n",
    "<p style=\"color:red; font-size:18px; font-weight:bold\">April 19th, 2017</p>\n",
    "\n",
    "### Overview\n",
    "**How to submit this:** Submit this assignment through CMS.\n",
    "\n",
    "**Objectives:** Become familiar with basic proximity analysis and unsupervised learning models, and learn how to perform different clusterings of statistical data.\n",
    "\n",
    "## Bingalee Dingalee\n",
    "I think I forgot to introduce myself for such a long time.\n",
    "Greeting, from Jared, who has been in charge of making weekly assignments for this training course. This is going to be your last assignment of the semester. Which means no more work for you guys, ~~and no more work for me as well~~. Yay!... Oh you still have a final project... \n",
    "<br>\n",
    "<br>\n",
    "I have a prelim tmrw?<br>\n",
    "&nbsp;&nbsp;&nbsp;&nbsp;&nbsp;∧_∧<br>\n",
    " 　( ･ω･) what?!<br>\n",
    " 　｜⊃／(＿＿＿ <br>\n",
    "／└-(＿＿＿_／<br>\n",
    " ￣￣￣￣￣￣ <br>\n",
    "Oh, wait it's a dream<br>\n",
    "  ＜⌒／ヽ-､_＿ <br>\n",
    "／＜_/＿＿＿_／<br>\n",
    " ￣￣￣￣￣￣ <br>\n",
    "Wait it's not!<br>\n",
    "&nbsp;&nbsp;&nbsp;&nbsp;&nbsp;∧_∧<br>\n",
    " 　( ･ω･) wtf<br>\n",
    " 　｜⊃／(＿＿＿ <br>\n",
    "／└-(＿＿＿_／<br>\n",
    " ￣￣￣￣￣￣<br>\n",
    "adjfioaejfpadjgpajdfdip<br>\n",
    "  ＜⌒／ヽ-､_＿ <br>\n",
    "／＜_/＿＿＿_／<br>\n",
    " ￣￣￣￣￣￣ <br>\n",
    "<br>\n",
    "## Problem 1 - Hierarchical Clustering\n",
    "*Includes: Proximity/Similarity Analysis, Hierarchical Clustering, Dendrogram*\n",
    "\n",
    "With the mortality rate of 3% each year, breast cancer is the second leading cause of cancer death in women. However, breast cancer can be classified into two categories depending on its behavior: either benign or malignant. Have you noticed that I just copied and pasted the same paragraph from the last assignment? Yes, we are using the same dataset. Your task this time is to analyze the given dataset and determine whether each patient’s breast cancer is benign or malignant.\n",
    "\n",
    "### 1-0 Initial Setup\n",
    "Go to the Kaggle website (https://www.kaggle.com/uciml/breast-cancer-wisconsin-data) and download the zip file for the csv file. Store the csv file and name it “cancer”."
   ]
  },
  {
   "cell_type": "code",
   "execution_count": null,
   "metadata": {
    "collapsed": false
   },
   "outputs": [],
   "source": []
  },
  {
   "cell_type": "markdown",
   "metadata": {},
   "source": [
    "Then store the mutated version of it by removing **id** and **diagnosis** columns and name it “cancer_modified”."
   ]
  },
  {
   "cell_type": "code",
   "execution_count": null,
   "metadata": {
    "collapsed": true
   },
   "outputs": [],
   "source": []
  },
  {
   "cell_type": "markdown",
   "metadata": {},
   "source": [
    "### 1-1 I am you, and you are me\n",
    "\n",
    "We want to see which two patients are most similar to each other. Because the dataset is too large, we will only consider the first five patients for this sub-problem.\n",
    "\n",
    "Create a Euclidean distance matrix for the first five patients and find which two patients are closest to each other in terms of breast cancer condition. What are their id’s? (Make sure you exclude unnecessary columns before performing the analysis.)"
   ]
  },
  {
   "cell_type": "code",
   "execution_count": 1,
   "metadata": {
    "collapsed": false
   },
   "outputs": [],
   "source": [
    "# comment the non-code answers"
   ]
  },
  {
   "cell_type": "markdown",
   "metadata": {},
   "source": [
    "### 1-2 Hierarchical clustering\n",
    "\n",
    "Now, let’s consider our cancer_modified dataset. This dataset doesn’t contain any information about the diagnosis result of each patient, so we don’t know whether each patient has benign or malignant cancer. Our task is to analytically predict this diagnosis result without looking at this column.\n",
    "\n",
    "Create a hierarchical cluster object from the cancer_modified dataset using Ward’s method."
   ]
  },
  {
   "cell_type": "code",
   "execution_count": null,
   "metadata": {
    "collapsed": false
   },
   "outputs": [],
   "source": []
  },
  {
   "cell_type": "markdown",
   "metadata": {},
   "source": [
    "### 1-3 Dendrogram\n",
    "\n",
    "Plot a dendrogram from the hierarchical cluster object that we just created. How many clusters seem to be a good parameter? Does it match well with our actual data (in other words, does it comply with our missing variable that we are trying to predict)?"
   ]
  },
  {
   "cell_type": "code",
   "execution_count": null,
   "metadata": {
    "collapsed": false
   },
   "outputs": [],
   "source": []
  },
  {
   "cell_type": "markdown",
   "metadata": {},
   "source": [
    "<br>\n",
    "## Problem 2 - K means, Mixture, and PCA\n",
    "*Includes: k-means clustering, Gaussian mixture model, PCA*\n",
    "\n",
    "~~I don't want to write an introduction~~"
   ]
  },
  {
   "cell_type": "markdown",
   "metadata": {},
   "source": [
    "### 2-1 K-Means Clustering\n",
    "\n",
    "Perform K-Means clustering using two variables: **radius_mean** and **smoothness_mean**.<br>\n",
    "Then plot the K-Means clustering model using ggplot. Let x = radius_mean, y = smoothness_mean."
   ]
  },
  {
   "cell_type": "code",
   "execution_count": null,
   "metadata": {
    "collapsed": true
   },
   "outputs": [],
   "source": []
  },
  {
   "cell_type": "markdown",
   "metadata": {},
   "source": [
    "Compare with the actual data by plotting the original dataset. Let x = radius_mean, y = smoothness_mean."
   ]
  },
  {
   "cell_type": "code",
   "execution_count": null,
   "metadata": {
    "collapsed": true
   },
   "outputs": [],
   "source": []
  },
  {
   "cell_type": "markdown",
   "metadata": {},
   "source": [
    "### 2-2 Gausian Mixture Model\n",
    "\n",
    "Let's create a Gaussian Mixture Model using two variables: **radius_mean** and **smoothness_mean**. It's same as above.<br>\n",
    "Print out the summary of the model."
   ]
  },
  {
   "cell_type": "code",
   "execution_count": null,
   "metadata": {
    "collapsed": true
   },
   "outputs": [],
   "source": []
  },
  {
   "cell_type": "markdown",
   "metadata": {},
   "source": [
    "Plot the mixture model classification with x = radius_mean, y = smoothness_mean."
   ]
  },
  {
   "cell_type": "code",
   "execution_count": null,
   "metadata": {
    "collapsed": true
   },
   "outputs": [],
   "source": []
  },
  {
   "cell_type": "markdown",
   "metadata": {},
   "source": [
    "### 2-3 PC Principal Final Justice\n",
    "\n",
    "As our last problem, we are going to do PCA analysis.\n",
    "\n",
    "Do the PCA analysis with cancer dataset. You might need to exclude some columns that doesn't have numerical values or that contains NA's. (Hint: there are only three columns that you need to exclude). Do PCA without log transformation."
   ]
  },
  {
   "cell_type": "code",
   "execution_count": null,
   "metadata": {
    "collapsed": true
   },
   "outputs": [],
   "source": []
  },
  {
   "cell_type": "markdown",
   "metadata": {},
   "source": [
    "Draw the corresponding screeplot that shows each principal component."
   ]
  },
  {
   "cell_type": "code",
   "execution_count": null,
   "metadata": {
    "collapsed": true
   },
   "outputs": [],
   "source": []
  },
  {
   "cell_type": "markdown",
   "metadata": {},
   "source": [
    "Hey you are done!\n"
   ]
  },
  {
   "cell_type": "markdown",
   "metadata": {},
   "source": [
    "<br>\n",
    "## Karma\n",
    "Optional problems for additional practice\n",
    "\n",
    "### K-0 No Karma Question this week\n",
    "I was gonna prepare the snake matrix v2 for this part, but I smelled the spring breeze and decide to hang out with my friends outside instead.<br>Happy Spring everyone."
   ]
  }
 ],
 "metadata": {
  "anaconda-cloud": {},
  "kernelspec": {
   "display_name": "R",
   "language": "R",
   "name": "ir"
  },
  "language_info": {
   "codemirror_mode": "r",
   "file_extension": ".r",
   "mimetype": "text/x-r-source",
   "name": "R",
   "pygments_lexer": "r",
   "version": "3.3.2"
  }
 },
 "nbformat": 4,
 "nbformat_minor": 0
}
