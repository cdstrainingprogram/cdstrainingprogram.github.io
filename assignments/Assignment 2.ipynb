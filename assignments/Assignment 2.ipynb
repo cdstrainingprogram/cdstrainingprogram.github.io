{
 "cells": [
  {
   "cell_type": "markdown",
   "metadata": {},
   "source": [
    "<p style=\"color:dodgerblue; font-size:30px; font-weight:bold\">Assignment 2</p>\n",
    "<p style=\"color:black; font-size:50px; font-weight:bold\">Data Cleaning</p>\n",
    "<br>\n",
    "<p style=\"color:red; font-size:18px; font-weight:bold\">February 22th, 2017</p>\n",
    "\n",
    "### Overview\n",
    "**How to submit this:** Submit this assignment through CMS.\n",
    "\n",
    "**Objectives:** Learn different R-specific techniques to write a clean, coherent, and cost-efficient R script, and become familiar with filling missing values to a given data using data imputation.\n",
    "\n",
    "## Problem 1 - Apply Family\n",
    "*Includes: exercise apply functions*\n",
    "\n",
    "R contains built-in package, datasets, which includes multiple dataframes. In this assignment, we are going to use two datasets, one for the New York Air Quality Measurements, and the other for the Topographic Information on Auckland's Maunga Whau Volcano from this library.\n",
    "\n",
    "### 1-1 Initial Setup\n",
    "\n",
    "You can find datasets by typing *datasets::* followed by the name of the file, in this case *airquality* and *volcano*. Store these data.frames into variables *AirData* and *Volcano*."
   ]
  },
  {
   "cell_type": "code",
   "execution_count": 1,
   "metadata": {
    "collapsed": true
   },
   "outputs": [],
   "source": [
    "# Write your codes here"
   ]
  },
  {
   "cell_type": "markdown",
   "metadata": {},
   "source": [
    "<br>\n",
    "From now on, you need to decide which apply function will be most useful for each subproblem and use that function to perform operations. Every answer of each subproblem can be done in one-line if apply functions are properly used.\n",
    "\n",
    "### 1-2 Topographic Analysis of Volcano\n",
    "\n",
    "Calculate the highest point in each row from *Volcano* data.frame and print them out in vector output. (1 line)"
   ]
  },
  {
   "cell_type": "code",
   "execution_count": null,
   "metadata": {
    "collapsed": true
   },
   "outputs": [],
   "source": []
  },
  {
   "cell_type": "markdown",
   "metadata": {},
   "source": [
    "Then calculate the lowest point in each column from the same data.frame. Print them out in vector output. (1 line)"
   ]
  },
  {
   "cell_type": "code",
   "execution_count": null,
   "metadata": {
    "collapsed": true
   },
   "outputs": [],
   "source": []
  },
  {
   "cell_type": "markdown",
   "metadata": {},
   "source": [
    "### 1-3 Mean of Variables in AirData\n",
    "\n",
    "Calculate the median of variables Ozone, Solar.R, Wind, and Temp (columns in our data.frame) from *AirData* and print them out (ignore the missing values) in 1) list output and 2) vector output. (total 2 lines)"
   ]
  },
  {
   "cell_type": "code",
   "execution_count": null,
   "metadata": {
    "collapsed": true
   },
   "outputs": [],
   "source": []
  },
  {
   "cell_type": "markdown",
   "metadata": {},
   "source": [
    "### 1-4 Analysis by Category in AirData\n",
    "\n",
    "Now we will perform a more specific analysis of *AirData*. Calculate the average temperature of each month in the dataset. (1 line)"
   ]
  },
  {
   "cell_type": "code",
   "execution_count": null,
   "metadata": {
    "collapsed": true
   },
   "outputs": [],
   "source": []
  },
  {
   "cell_type": "markdown",
   "metadata": {},
   "source": [
    "Then calculate the total amount of solar radiation of each month. (1 line)"
   ]
  },
  {
   "cell_type": "code",
   "execution_count": null,
   "metadata": {
    "collapsed": true
   },
   "outputs": [],
   "source": []
  },
  {
   "cell_type": "markdown",
   "metadata": {},
   "source": [
    "<br>\n",
    "## Problem 2 - Data Imputation\n",
    "*Includes: mean, median, log comparison*\n",
    "\n",
    "While working on the analysis of *AirData*, you realized that there are a lot of missing values (marked as NA in R) and ignoring NA’s was inevitable in order to properly calculate mean, median, and sum of remaining data.\n",
    "\n",
    "In problem 2, we are going to replace them using basic imputations.\n",
    "\n",
    "### 2-1 Mean and Median Imputation\n",
    "\n",
    "Two of the most basic imputations are to replace the missing values with mean and median of the dataset. Perform mean imputation to the Ozone category.\n",
    "\n",
    "(You can verify your work by comparing the mean of the category before the imputation and after the imputation. If imputation worked as intended, the mean of the category shouldn’t change)"
   ]
  },
  {
   "cell_type": "code",
   "execution_count": null,
   "metadata": {
    "collapsed": true
   },
   "outputs": [],
   "source": []
  },
  {
   "cell_type": "markdown",
   "metadata": {},
   "source": [
    "Then perform median imputation to the Solar.R category. Similarly, you can verify your work by comparing the median of the category before the imputation and after the imputation."
   ]
  },
  {
   "cell_type": "code",
   "execution_count": null,
   "metadata": {
    "collapsed": true
   },
   "outputs": [],
   "source": []
  },
  {
   "cell_type": "markdown",
   "metadata": {},
   "source": [
    "<br>\n",
    "Mean and median imputation is one of the most simple imputation technique. In this question, we will introduce new concept, normalization. We are going to use Ozone category from *AirData*. Let’s replace some random values of Ozone category with NA again, You can do this by using sample function. This function will pick random index of given range of number. For example, function(100, 10) will pick 10 random indices from 1 to 100.\n",
    "\n",
    "### 2-2 Sample Function\n",
    "\n",
    "Use sample to replace 10 random values of Ozone category with NA"
   ]
  },
  {
   "cell_type": "code",
   "execution_count": null,
   "metadata": {
    "collapsed": true
   },
   "outputs": [],
   "source": []
  },
  {
   "cell_type": "markdown",
   "metadata": {},
   "source": [
    "### 2-3 Data Visualization\n",
    "\n",
    "Use appropriate built-in function to make a graph which shows the distribution of Ozone values."
   ]
  },
  {
   "cell_type": "code",
   "execution_count": null,
   "metadata": {
    "collapsed": true
   },
   "outputs": [],
   "source": []
  },
  {
   "cell_type": "markdown",
   "metadata": {},
   "source": [
    "### 2-4 Log Normalization and Imputation\n",
    "\n",
    "You can take the log of a value simply by using *log* function. Apply log function to all values in Ozone category and output the graph the same way you did in the previous question. What do you observe?\n",
    "Then apply mean and median imputation on new dataset."
   ]
  },
  {
   "cell_type": "code",
   "execution_count": null,
   "metadata": {
    "collapsed": true
   },
   "outputs": [],
   "source": []
  },
  {
   "cell_type": "markdown",
   "metadata": {},
   "source": [
    "<br>\n",
    "## Problem 3 - Data Manipulation \n",
    "*Includes: tidyr*\n",
    "\n",
    "Let's continue our exercises in data manipulation. Now we are using some libraries we introduced in the class. We are going to use titanic dataset from the Assignment 1.\n",
    "\n",
    "Read your \"train.csv\" into local variable, and let's get started"
   ]
  },
  {
   "cell_type": "code",
   "execution_count": 2,
   "metadata": {
    "collapsed": false
   },
   "outputs": [
    {
     "name": "stderr",
     "output_type": "stream",
     "text": [
      "Warning message:\n",
      "“package ‘tidyr’ was built under R version 3.3.2”"
     ]
    },
    {
     "ename": "ERROR",
     "evalue": "Error in setwd(\"directory/to/your/data\"): cannot change working directory\n",
     "output_type": "error",
     "traceback": [
      "Error in setwd(\"directory/to/your/data\"): cannot change working directory\nTraceback:\n",
      "1. setwd(\"directory/to/your/data\")"
     ]
    }
   ],
   "source": [
    "# Not Part of Grading\n",
    "library(\"tidyr\")\n",
    "\n",
    "setwd(\"directory/to/your/data\")\n",
    "src <- read.csv(\"train.csv\")"
   ]
  },
  {
   "cell_type": "markdown",
   "metadata": {},
   "source": [
    "### 3-1 Split Name Column\n",
    "Take a look at the first row of Name column from the titanic dataset. You'll see the input, **Braund, Mr. Owen Harris**. If you go through all the names in the column, you start to realize they are formatted in a specific way that you see \"Last Name\" followed by the \"Title\" then the \"First Name\". We want to extract this \"Title\" information because they might be correlating with the survival rate.\n",
    "\n",
    "\n",
    "Split the Name column at \", \" and store the first half into *LastName* and second half into a *Temp*(we are splitting this column later). Use separate function from tidyr. Store this new data.frame into a local variable, then print the data.frame. "
   ]
  },
  {
   "cell_type": "code",
   "execution_count": null,
   "metadata": {
    "collapsed": false
   },
   "outputs": [],
   "source": []
  },
  {
   "cell_type": "markdown",
   "metadata": {},
   "source": [
    "Now split the *Temp* column at \". \" and name the first half as *Title*, the second half as *FirstName*. Store this new data.frame into a local variable, then print the data.frame. Again, use separate from tidyr. \n",
    "\n",
    "You might get a warning message. We'll fix this in the next part so leave it that way.\n",
    "\n",
    "(Hint: You cannot simple use \". \" as a separation. You might need to take an extra step to specify you are refering \".\" as a character.)"
   ]
  },
  {
   "cell_type": "code",
   "execution_count": null,
   "metadata": {
    "collapsed": false
   },
   "outputs": [],
   "source": []
  },
  {
   "cell_type": "markdown",
   "metadata": {},
   "source": [
    "If you do the last part correctly, you'll get a warning at 1 location. Print the row that is causing a warning. Comapre it with the original data and explain what is happening in a comment section in your code."
   ]
  },
  {
   "cell_type": "code",
   "execution_count": null,
   "metadata": {
    "collapsed": false,
    "scrolled": true
   },
   "outputs": [],
   "source": []
  },
  {
   "cell_type": "markdown",
   "metadata": {},
   "source": [
    "There are optional parameters in separate( ) to sort this out. Add one parameter to the function so that you ignore the second \".\". Store the new data.frame into a local variable and then print it to see if worked."
   ]
  },
  {
   "cell_type": "code",
   "execution_count": null,
   "metadata": {
    "collapsed": false
   },
   "outputs": [],
   "source": []
  },
  {
   "cell_type": "markdown",
   "metadata": {},
   "source": [
    "### 3-2 Combine Columns\n",
    "Now we successfully extract \"Title\" information. But, we have 2 columns *FirstName* and *LastName*. Let's combine those 2 columns into one column, *FullName* using unite() function from tidyr. Combine *LastName* follewed by *FirstName* and separate them with one space. Store the new data.frame into a local variable and then print it."
   ]
  },
  {
   "cell_type": "code",
   "execution_count": null,
   "metadata": {
    "collapsed": false
   },
   "outputs": [],
   "source": []
  },
  {
   "cell_type": "markdown",
   "metadata": {},
   "source": [
    "<br>\n",
    "## Karma\n",
    "Optional problems for additional practice\n",
    "\n",
    "### K-1 Snake Matrix\n",
    "Construct the following “snake” matrix without using any loops. **(Par: 2 lines)**\n",
    "\n",
    "(Hint: use one of apply families)\n",
    "\n",
    "![](https://github.com/cdstrainingprogram/cdstrainingprogram.github.io/blob/master/resources/table.png?raw=true)"
   ]
  },
  {
   "cell_type": "code",
   "execution_count": null,
   "metadata": {
    "collapsed": true
   },
   "outputs": [],
   "source": []
  },
  {
   "cell_type": "markdown",
   "metadata": {},
   "source": [
    "### K-2 List of Factors\n",
    "Write a function in R that returns all the factors of a given number (if the given number is less than 1, return NULL). For example, if the given number is 10, then the function should return 1, 2, 5, and 10 in this sequence.\n",
    "\n",
    "    > findFactors(10)\n",
    "    [1]  1  2  5 10\n",
    "\n",
    "As you would have already noticed, the whole point of Unit 2 is to maintain a neat R coding style, and therefore, this problem should be solved without using any loops just like **K-1**. **(Par: 6 lines)**\n",
    "\n",
    "(Hint: Keep in mind the fact that R is a vectorized language.)"
   ]
  },
  {
   "cell_type": "code",
   "execution_count": null,
   "metadata": {
    "collapsed": true
   },
   "outputs": [],
   "source": []
  }
 ],
 "metadata": {
  "anaconda-cloud": {},
  "kernelspec": {
   "display_name": "R",
   "language": "R",
   "name": "ir"
  },
  "language_info": {
   "codemirror_mode": "r",
   "file_extension": ".r",
   "mimetype": "text/x-r-source",
   "name": "R",
   "pygments_lexer": "r",
   "version": "3.3.1"
  }
 },
 "nbformat": 4,
 "nbformat_minor": 0
}
