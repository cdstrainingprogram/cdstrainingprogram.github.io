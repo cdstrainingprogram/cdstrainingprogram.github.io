{
 "cells": [
  {
   "cell_type": "markdown",
   "metadata": {},
   "source": [
    "<p style=\"color:dodgerblue; font-size:30px; font-weight:bold\">Assignment 2</p>\n",
    "<p style=\"color:black; font-size:50px; font-weight:bold\">Data Manipulation</p>\n",
    "<br>\n",
    "<p style=\"color:red; font-size:18px; font-weight:bold\">February 22th, 2017</p>\n",
    "\n",
    "### Overview\n",
    "**How to submit this:** Submit this assignment through CMS.\n",
    "\n",
    "**Objectives:** Learn different R-specific techniques to write a clean, coherent, and cost-efficient R script, and become familiar with filling missing values to a given data using data imputation.\n",
    "\n",
    "## Problem 1 - Apply Family\n",
    "*Includes: exercise apply functions*\n",
    "\n",
    "R contains built-in package, datasets, which includes multiple dataframes. In this assignment, we are going to use two datasets, one for the New York Air Quality Measurements, and the other for the Topographic Information on Auckland's Maunga Whau Volcano from this library.\n",
    "\n",
    "### 1-1 Initial Setup\n",
    "\n",
    "You can find datasets by typing *datasets::* followed by the name of the file, in this case *airquality* and *volcano*. Store these data.frames into variables *AirData* and *Volcano*."
   ]
  },
  {
   "cell_type": "code",
   "execution_count": 1,
   "metadata": {
    "collapsed": true
   },
   "outputs": [],
   "source": [
    "# Write your code here"
   ]
  },
  {
   "cell_type": "markdown",
   "metadata": {},
   "source": [
    "<br>\n",
    "From now on, you need to decide which apply function will be most useful for each subproblem and use that function to perform operations. Every answer of each subproblem can be done in one-line if apply functions are properly used.\n",
    "\n",
    "### 1-2 Topographic Analysis of Volcano\n",
    "\n",
    "Calculate the highest point in each row from *Volcano* data.frame and print them out in vector output. (1 line)"
   ]
  },
  {
   "cell_type": "code",
   "execution_count": null,
   "metadata": {
    "collapsed": true
   },
   "outputs": [],
   "source": []
  },
  {
   "cell_type": "markdown",
   "metadata": {},
   "source": [
    "Then calculate the lowest point in each column from the same data.frame. Print them out in vector output. (1 line)"
   ]
  },
  {
   "cell_type": "code",
   "execution_count": null,
   "metadata": {
    "collapsed": true
   },
   "outputs": [],
   "source": []
  },
  {
   "cell_type": "markdown",
   "metadata": {},
   "source": [
    "### 1-3 Mean of Variables in AirData\n",
    "\n",
    "Calculate the median of variables Ozone, Solar.R, Wind, and Temp (columns in our data.frame) from *AirData* and print them out (ignore the missing values) in 1) list output and 2) vector output. (total 2 lines)"
   ]
  },
  {
   "cell_type": "code",
   "execution_count": null,
   "metadata": {
    "collapsed": true
   },
   "outputs": [],
   "source": []
  },
  {
   "cell_type": "markdown",
   "metadata": {},
   "source": [
    "### 1-4 Analysis by Category in AirData\n",
    "\n",
    "Now we will perform a more specific analysis of *AirData*. Calculate the average temperature of each month in the dataset. (1 line)"
   ]
  },
  {
   "cell_type": "code",
   "execution_count": null,
   "metadata": {
    "collapsed": true
   },
   "outputs": [],
   "source": []
  },
  {
   "cell_type": "markdown",
   "metadata": {},
   "source": [
    "Then calculate the total amount of solar radiation of each month. (1 line)"
   ]
  },
  {
   "cell_type": "code",
   "execution_count": null,
   "metadata": {
    "collapsed": true
   },
   "outputs": [],
   "source": []
  },
  {
   "cell_type": "markdown",
   "metadata": {},
   "source": [
    "<br>\n",
    "## Problem 2 - Data Manipulation\n",
    "*Includes: r base functions, dplyr, plyr, sqldf (optional) packages*\n",
    "\n",
    "In this section, you will practice ways to manipulate your data to meet specific input requirements for analysis. To answer the questions below, you are free to use any of the three ways, to manipulate your data in class: R base functions, dplyr or plyr, and the sql query method unless specified by the question. You are, however, required to use a R base function and a dplyr function at least once in this section. Failure to do so will result in half your points being deducted in this whole section!\n",
    "\n",
    "### 2-0 Create Indices Column\n",
    "Before we start our data manipulation, creating an indices column would be helpful. Create vector called *ind* and enumerate from 1 to the total number of rows in *AirData* dataset."
   ]
  },
  {
   "cell_type": "code",
   "execution_count": null,
   "metadata": {
    "collapsed": true
   },
   "outputs": [],
   "source": []
  },
  {
   "cell_type": "markdown",
   "metadata": {},
   "source": [
    "Then combine it with the original *AirData* so that *ind* column is the first column of the dataset."
   ]
  },
  {
   "cell_type": "code",
   "execution_count": null,
   "metadata": {
    "collapsed": true
   },
   "outputs": [],
   "source": []
  },
  {
   "cell_type": "markdown",
   "metadata": {},
   "source": [
    "### 2-1 Subset selection\n",
    "Let’s say you want to do a deep analysis of each day’s temperature, and therefore, don’t need columns other than *Temp, Month*, and *Day*. Select the subset from the *AirData* with only *ind, Temp, Month*, and *Day* columns and store the data.frame into a variable *tmd*."
   ]
  },
  {
   "cell_type": "code",
   "execution_count": null,
   "metadata": {
    "collapsed": true
   },
   "outputs": [],
   "source": []
  },
  {
   "cell_type": "markdown",
   "metadata": {},
   "source": [
    "Store the rest of the columns *ind, Ozone, Solar.R*, and *Wind* into a variable *osw*."
   ]
  },
  {
   "cell_type": "code",
   "execution_count": null,
   "metadata": {
    "collapsed": true
   },
   "outputs": [],
   "source": []
  },
  {
   "cell_type": "markdown",
   "metadata": {},
   "source": [
    "### 2-2 Filtering\n",
    "While browsing through the *AirData* dataset, you noticed some days had exceptionally more Solar Radiation than others. You’ve realized these are outliers that need to be separated from others. Filter out the rows with Solar.R greater than 200 lang from the data.frame *osw* and store the data.frame into a variable *largeSolarR*."
   ]
  },
  {
   "cell_type": "code",
   "execution_count": null,
   "metadata": {
    "collapsed": true
   },
   "outputs": [],
   "source": []
  },
  {
   "cell_type": "markdown",
   "metadata": {},
   "source": [
    "### 2-3 Joins\n",
    "Now you have two data.frames that you created: *largeSolarR* and *tmd*. We want to merge them together by index assigned to each specific row. Perform an *inner join*, that is, the merged output should only contain data points with indices shared by the two tables."
   ]
  },
  {
   "cell_type": "code",
   "execution_count": null,
   "metadata": {
    "collapsed": true
   },
   "outputs": [],
   "source": []
  },
  {
   "cell_type": "markdown",
   "metadata": {},
   "source": [
    "### 2-4 Aggregation, counting\n",
    "Let’s see how much variation the temperature has in each month. Calculate the standard deviation of the temperature column by each month and store that data.frame into a variable *tempByMonth*."
   ]
  },
  {
   "cell_type": "code",
   "execution_count": null,
   "metadata": {
    "collapsed": true
   },
   "outputs": [],
   "source": []
  },
  {
   "cell_type": "markdown",
   "metadata": {},
   "source": [
    "Now, you want to see if the *AirData* has a complete data for each month it has (in other words, if there are 31 days of data for May and 30 days of data for June, etc). Count the frequency of the data for each month, and store the data.frame into a variable *monthFreq*."
   ]
  },
  {
   "cell_type": "code",
   "execution_count": null,
   "metadata": {
    "collapsed": true
   },
   "outputs": [],
   "source": []
  },
  {
   "cell_type": "markdown",
   "metadata": {},
   "source": [
    "### 2-5 Feature Generation using mutate\n",
    "One of your friends from China has been complaining that *AirData* dataset is too hard to understand because the temperature unit is in Farenheit. So you decided to create a new column called *TempC*. Create and append this new column with the corresponding temperature of the day in Celsius. Use dplyr package’s mutate() function to generate this new column."
   ]
  },
  {
   "cell_type": "code",
   "execution_count": null,
   "metadata": {
    "collapsed": true
   },
   "outputs": [],
   "source": []
  },
  {
   "cell_type": "markdown",
   "metadata": {},
   "source": [
    "<br>\n",
    "## Problem 3 - Data Manipulation Continued\n",
    "*Includes: tidyr package*\n",
    "\n",
    "Let's continue our exercises in data manipulation. Now we are using some libraries we introduced in the class. We are going to use titanic dataset from the Assignment 1.\n",
    "\n",
    "Read your \"train.csv\" into local variable, and let's get started"
   ]
  },
  {
   "cell_type": "code",
   "execution_count": 2,
   "metadata": {
    "collapsed": false
   },
   "outputs": [
    {
     "name": "stderr",
     "output_type": "stream",
     "text": [
      "Warning message:\n",
      "“package ‘tidyr’ was built under R version 3.3.2”"
     ]
    },
    {
     "ename": "ERROR",
     "evalue": "Error in setwd(\"directory/to/your/data\"): cannot change working directory\n",
     "output_type": "error",
     "traceback": [
      "Error in setwd(\"directory/to/your/data\"): cannot change working directory\nTraceback:\n",
      "1. setwd(\"directory/to/your/data\")"
     ]
    }
   ],
   "source": [
    "library(\"tidyr\")\n",
    "\n",
    "setwd(\"directory/to/your/data\")\n",
    "src <- read.csv(\"train.csv\")"
   ]
  },
  {
   "cell_type": "markdown",
   "metadata": {},
   "source": [
    "### 3-1 Split Name Column\n",
    "Take a look at the first row of Name column from the titanic dataset. You'll see the input, **Braund, Mr. Owen Harris**. If you go through all the names in the column, you start to realize they are formatted in a specific way that you see \"Last Name\" followed by the \"Title\" then the \"First Name\". We want to extract this \"Title\" information because they might be correlating with the survival rate.\n",
    "\n",
    "\n",
    "Split the Name column at \", \" and store the first half into *LastName* and second half into a *Temp*(we are splitting this column later). Use separate function from tidyr. Store this new data.frame into a local variable, then print the data.frame. "
   ]
  },
  {
   "cell_type": "code",
   "execution_count": null,
   "metadata": {
    "collapsed": false
   },
   "outputs": [],
   "source": []
  },
  {
   "cell_type": "markdown",
   "metadata": {},
   "source": [
    "Now split the *Temp* column at \". \" and name the first half as *Title*, the second half as *FirstName*. Store this new data.frame into a local variable, then print the data.frame. Again, use separate from tidyr. \n",
    "\n",
    "You might get a warning message. We'll fix this in the next part so leave it that way.\n",
    "\n",
    "(Hint: You cannot simple use \". \" as a separation. You might need to take an extra step to specify you are refering \".\" as a character.)"
   ]
  },
  {
   "cell_type": "code",
   "execution_count": null,
   "metadata": {
    "collapsed": false
   },
   "outputs": [],
   "source": []
  },
  {
   "cell_type": "markdown",
   "metadata": {},
   "source": [
    "If you do the last part correctly, you'll get a warning at 1 location. Print the row that is causing a warning. Comapre it with the original data and explain what is happening in a comment section in your code."
   ]
  },
  {
   "cell_type": "code",
   "execution_count": null,
   "metadata": {
    "collapsed": false,
    "scrolled": true
   },
   "outputs": [],
   "source": []
  },
  {
   "cell_type": "markdown",
   "metadata": {},
   "source": [
    "There are optional parameters in separate( ) to sort this out. Add one parameter to the function so that you ignore the second \".\". Store the new data.frame into a local variable and then print it to see if worked."
   ]
  },
  {
   "cell_type": "code",
   "execution_count": null,
   "metadata": {
    "collapsed": false
   },
   "outputs": [],
   "source": []
  },
  {
   "cell_type": "markdown",
   "metadata": {},
   "source": [
    "### 3-2 Combine Columns\n",
    "Now we successfully extract \"Title\" information. But, we have 2 columns *FirstName* and *LastName*. Let's combine those 2 columns into one column, *FullName* using unite() function from tidyr. Combine *LastName* follewed by *FirstName* and separate them with one space. Store the new data.frame into a local variable and then print it."
   ]
  },
  {
   "cell_type": "code",
   "execution_count": null,
   "metadata": {
    "collapsed": false
   },
   "outputs": [],
   "source": []
  },
  {
   "cell_type": "markdown",
   "metadata": {},
   "source": [
    "<br>\n",
    "## Karma\n",
    "Optional problems for additional practice\n",
    "\n",
    "### K-1 Snake Matrix\n",
    "Construct the following “snake” matrix without using any loops. **(Par: 2 lines)**\n",
    "\n",
    "(Hint: use one of apply families)\n",
    "\n",
    "![](https://github.com/cdstrainingprogram/cdstrainingprogram.github.io/blob/master/resources/table.png?raw=true)"
   ]
  },
  {
   "cell_type": "code",
   "execution_count": null,
   "metadata": {
    "collapsed": true
   },
   "outputs": [],
   "source": []
  },
  {
   "cell_type": "markdown",
   "metadata": {},
   "source": [
    "### K-2 List of Factors\n",
    "Write a function in R that returns all the factors of a given number (if the given number is less than 1, return NULL). For example, if the given number is 10, then the function should return 1, 2, 5, and 10 in this sequence.\n",
    "\n",
    "    > findFactors(10)\n",
    "    [1]  1  2  5 10\n",
    "\n",
    "As you would have already noticed, the whole point of Unit 2 is to maintain a neat R coding style, and therefore, this problem should be solved without using any loops just like **K-1**. **(Par: 6 lines)**\n",
    "\n",
    "(Hint: Keep in mind the fact that R is a vectorized language.)"
   ]
  },
  {
   "cell_type": "code",
   "execution_count": null,
   "metadata": {
    "collapsed": true
   },
   "outputs": [],
   "source": []
  }
 ],
 "metadata": {
  "anaconda-cloud": {},
  "kernelspec": {
   "display_name": "R",
   "language": "R",
   "name": "ir"
  },
  "language_info": {
   "codemirror_mode": "r",
   "file_extension": ".r",
   "mimetype": "text/x-r-source",
   "name": "R",
   "pygments_lexer": "r",
   "version": "3.3.1"
  }
 },
 "nbformat": 4,
 "nbformat_minor": 0
}
