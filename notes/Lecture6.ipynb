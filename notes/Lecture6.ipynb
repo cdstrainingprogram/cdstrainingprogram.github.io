{
 "cells": [
  {
   "cell_type": "markdown",
   "metadata": {
    "collapsed": true
   },
   "source": [
    "# Lecture 6: Classification\n",
    "In data science, it is essential to distinguish the type of problems we are solving for. So far in this course, we have learned some **regression** techniques such as linear regressions, and **classifiers** such as logistic regressions and decision trees. In this lecture we are exploring more methods to solve **classification** problems.\n",
    "\n",
    "## K Nearest Neighbors\n",
    "One of the simplest classification models is called **K Nearest Neighbors**, or kNN. In kNN, the prediction is made based on a majority vote amoung its neighbors, increasing the searching radius around the point until the number of neighbors sums up to k. As such, k tends to be a small integer, and often an odd number in order to be a *tie-breaker*. For example, if you implement kNN classifer with k-value of 3, the classifier will keep searching the neighbors around the prediction point until finding 3 neighbors. While kNN is very easy to interpret, it is called an **instance-based learning** or **lazy learning** since the algorithm is only applied locally and not all detasets are used for the prediction. In the \"training phase\" of a kNN classifier, it simply stores all data points and their categories. \n",
    "\n",
    "![image](https://mayuresha.files.wordpress.com/2013/04/knn.jpg)\n",
    "\n",
    "### K-value Selection\n",
    "Using the \"right\" k-value will significantly affect the output of the classifier. If you choose larger k-value, the model will become more robust to small noises; however, the boundary line between 2 classes will be less distinct. Intuitively, with the larger k-value, the borderline between classes becomes smoother while the smaller k-value will have a potential problem of over-fitting. For example, when k is 1, the closest neighbor in train data becomes the point itself. Thus, the accuracy of this model on training dataset will be 100%. However, this model simply predicts a datapoint to be the identical class with its closest neighbor. This method is only usuful for the initial analysis of data or classification of very large datasets.\n",
    "\n",
    "Smaller k value will increase **variance** in the outputs but tends to **overfit** the classifier. On the other hands, larger k value will increase **bias** while becoming more robust to the outliers. (Continued in lecture 8)\n",
    "\n",
    "\n",
    "<img src = \"https://www.analyticsvidhya.com/wp-content/uploads/2014/10/K-judgement.png\" width = 500/>\n",
    "<img src = \"https://www.analyticsvidhya.com/wp-content/uploads/2014/10/K-judgement2.png\" width = 500/>\n",
    "\n",
    "\n",
    "### Weighted Nearest Classifier\n",
    "Intuitively speaking, if the point to predict is located very closely to some class *A*, it is very likely to belong to A. On the other hand, the confidence level decreases as the distance from the closest point increases. The algorithm to apply this \"intuition\" is called **weighted nearest classifier**. This model simply improves the normal kNN classifier by calcurating the weighted sum of neighbors as it multiples by 1/d where d is the distance from the center. This will account for the fact that the distance from the point and the confidence level of prediction is in the negative correlation. \n",
    "\n",
    "### kNN in R\n",
    "Before using R to craete classification models, we need to prepare a dataset that contains 2 classes. The following code will teach you how to create 100 data points with three values, x coordinate, y-coordinate, and class (-1 or 1)."
   ]
  },
  {
   "cell_type": "code",
   "execution_count": 3,
   "metadata": {
    "collapsed": false
   },
   "outputs": [
    {
     "data": {
      "image/png": "[encoded data removed]",
      "text/plain": [
       "plot without title"
      ]
     },
     "metadata": {
      "image/svg+xml": {
       "isolated": true
      }
     },
     "output_type": "display_data"
    }
   ],
   "source": [
    "# Set up parameters\n",
    "meanA <- 1.5 # mean for class A\n",
    "meanB <- 0 # mean for class B\n",
    "sdA <- 1 # standard deviation for A\n",
    "sdB <- 0.7 # standard deviation for B\n",
    "\n",
    "# Create 100 random points and store them into 50 x 2 matrix\n",
    "matA <- matrix(data = rnorm(n = 100, mean = meanA, sd = sdA), nrow = 50, ncol = 2)\n",
    "matB <- matrix(data = rnorm(n = 100, mean = meanB, sd = sdB), nrow = 50, ncol = 2)\n",
    "\n",
    "# Combine 2 matrix \n",
    "points <- rbind(matA, matB)\n",
    "\n",
    "# Label A as 1, B as -1\n",
    "labels <- matrix(c(rep(1, 50), rep(-1,50)))\n",
    "\n",
    "# Now plot class A as a red point, B as a blue point\n",
    "plot(points, col = ifelse(labels > 0, 2, 4))"
   ]
  },
  {
   "cell_type": "markdown",
   "metadata": {},
   "source": [
    "Now that we have a dataset, we are going to split it into train data and test data.\n",
    "In this case, we are simply sampling 70 data points as a train data and use the rest as a test data."
   ]
  },
  {
   "cell_type": "code",
   "execution_count": 4,
   "metadata": {
    "collapsed": false
   },
   "outputs": [],
   "source": [
    "# Splitting dataset into a train set and a test set\n",
    "sample_index <- sample(100,70) # randomly pick 70 indecies\n",
    "\n",
    "train_data <- points[sample_index,]\n",
    "test_data <- points[-sample_index,]\n",
    "train_label <- labels[sample_index,]\n",
    "test_label <- labels[-sample_index,]"
   ]
  },
  {
   "cell_type": "markdown",
   "metadata": {},
   "source": [
    "Finally, let's use knn function from *class* library.\n",
    "We are creating 4 classifiers with diffrent k values. "
   ]
  },
  {
   "cell_type": "code",
   "execution_count": 5,
   "metadata": {
    "collapsed": false
   },
   "outputs": [
    {
     "data": {
      "text/html": [
       "0.766666666666667"
      ],
      "text/latex": [
       "0.766666666666667"
      ],
      "text/markdown": [
       "0.766666666666667"
      ],
      "text/plain": [
       "[1] 0.7666667"
      ]
     },
     "metadata": {},
     "output_type": "display_data"
    },
    {
     "data": {
      "text/html": [
       "0.766666666666667"
      ],
      "text/latex": [
       "0.766666666666667"
      ],
      "text/markdown": [
       "0.766666666666667"
      ],
      "text/plain": [
       "[1] 0.7666667"
      ]
     },
     "metadata": {},
     "output_type": "display_data"
    },
    {
     "data": {
      "text/html": [
       "0.8"
      ],
      "text/latex": [
       "0.8"
      ],
      "text/markdown": [
       "0.8"
      ],
      "text/plain": [
       "[1] 0.8"
      ]
     },
     "metadata": {},
     "output_type": "display_data"
    },
    {
     "data": {
      "text/html": [
       "0.8"
      ],
      "text/latex": [
       "0.8"
      ],
      "text/markdown": [
       "0.8"
      ],
      "text/plain": [
       "[1] 0.8"
      ]
     },
     "metadata": {},
     "output_type": "display_data"
    }
   ],
   "source": [
    "# Import class library\n",
    "library(class)\n",
    "\n",
    "# kNN Classifier with k = 1\n",
    "classifier_1 <- knn(train = train_data, test = test_data, cl = train_label, k = 1)\n",
    "# kNN Classifier with k = 3\n",
    "classifier_3 <- knn(train = train_data, test = test_data, cl = train_label, k = 3)\n",
    "# kNN Classifier with k = 5\n",
    "classifier_5 <- knn(train = train_data, test = test_data, cl = train_label, k = 5)\n",
    "# kNN Classifier with k = 7\n",
    "classifier_7 <- knn(train = train_data, test = test_data, cl = train_label, k = 7)\n",
    "\n",
    "# Here is a simple way to check accuracy\n",
    "mean(classifier_1 == test_label)\n",
    "mean(classifier_3 == test_label)\n",
    "mean(classifier_5 == test_label)\n",
    "mean(classifier_7 == test_label)"
   ]
  },
  {
   "cell_type": "markdown",
   "metadata": {},
   "source": [
    "We can also see the result using *table* function."
   ]
  },
  {
   "cell_type": "code",
   "execution_count": 6,
   "metadata": {
    "collapsed": false
   },
   "outputs": [
    {
     "data": {
      "text/plain": [
       "          classifier_1\n",
       "test_label -1  1\n",
       "        -1 14  4\n",
       "        1   3  9"
      ]
     },
     "metadata": {},
     "output_type": "display_data"
    },
    {
     "data": {
      "text/plain": [
       "          classifier_3\n",
       "test_label -1  1\n",
       "        -1 15  3\n",
       "        1   4  8"
      ]
     },
     "metadata": {},
     "output_type": "display_data"
    },
    {
     "data": {
      "text/plain": [
       "          classifier_5\n",
       "test_label -1  1\n",
       "        -1 14  4\n",
       "        1   2 10"
      ]
     },
     "metadata": {},
     "output_type": "display_data"
    },
    {
     "data": {
      "text/plain": [
       "          classifier_7\n",
       "test_label -1  1\n",
       "        -1 15  3\n",
       "        1   3  9"
      ]
     },
     "metadata": {},
     "output_type": "display_data"
    }
   ],
   "source": [
    "table(test_label, classifier_1)\n",
    "table(test_label, classifier_3)\n",
    "table(test_label, classifier_5)\n",
    "table(test_label, classifier_7)"
   ]
  },
  {
   "cell_type": "markdown",
   "metadata": {},
   "source": [
    "(Conclusion) or should I implement kknn (weighted kNN)?"
   ]
  },
  {
   "cell_type": "markdown",
   "metadata": {},
   "source": [
    "## Naive Bayes\n",
    "Our second classifier is called a naive Bayes classifier. This classifier applies Bayes' theorem with an assumption that all parameters are independent. \n",
    "\n",
    "### Bayes' Theorem (Quick Stats Review)\n",
    "Bayes' Theorem is a fundamental equation to solve for conditional probabilities. Conditional probability is a probability of some event *A* when you have literally a condition *B*. For example, when you want to find the probabilty of eating out at the college town (an event A), but with the condition that it is a final week (an event B). Probability of eating out on any random day, P(A), is probably low if you are a college student. However, the probability will most likely raise if it is a random day during the final week, because students don't have time to cook. The second analogy represents the conditional probability of A given B and the mathmatical notation is $P(A|B)$.\n",
    "\n",
    "Bayes' Theorem shows the mathmatical relationship of those conditional probabilities and it is represented as follows:\n",
    "\n",
    "$$P(A|B) = \\frac{P(B|A)\\times P(A)}{P(B)}$$\n",
    "\n",
    "### Independence (Quick Stats Review 2)\n",
    "By definition, two events are called independent if the occurance of one event has no effect on the probability of other event.\n",
    "If 2 events are independent, you can show the mathmatical relationship by the following equation:\n",
    "\n",
    "$$P(A\\cap B) = P(A)\\times P(B)$$\n",
    "\n",
    "This assumption will make the calculation of naive Bayes significatly easier.\n",
    "\n",
    "### Naive Bayes\n",
    "Let's imagine we want to identify the gender of a randomly selected person given his or hers social media profile (of course the gender information is missing!). We have many feature parameters such as name, picture, where this person is from, high school, favorite music they listen to, liked posts, shared events etc. Naive bayes will calcurate the probability of this particular individual being male given those parameters and compare it with the probability of this individual being female given the parameters. If the probability of male is higher than female, the classifier predicts this person to be male.\n",
    "\n",
    "Let's say we have n feature variables and call them $X_1, X_2, X_3, ... , X_n$. Also we define the probability of a person being male as P(M), and female as P(F).\n",
    "\n",
    "Naive Bayes will compare $P(M|X)$ and $P(F|X)$.\n",
    "\n",
    "From Bayes' Theorem, we can state following relationship.\n",
    "\n",
    "$$P(M|X) = \\frac{P(X|M)\\times P(M)}{P(X)} = \\frac{P(X_1\\cap X_2\\cap... X_n|M)\\times P(M)}{P(X)}$$\n",
    "\n",
    "By assuing all parameters are indepentent, we can also show following.\n",
    "\n",
    "$$P(X_1\\cap X_2\\cap... X_n|M) = P(X_1|M)\\times P(X_2|M)\\times ... \\times P(X_n|M)$$\n",
    "\n",
    "So what does this mean? In this particular problem, naive Bayes classifier will look at the social media profile, and for each parameters it calculates the probability of being male or female. For example, if this person's name is Peter, how liktely is this person to be male? If this person listens to jazz a lot, how likely is this person to be male? etc. The result of such questions will be multiplied all together to find the probability of this individual being male.\n",
    "\n",
    "There are several kinds of naive Bayes classifier based on how to deal with those questions. If the classifier assumes that the parameters are distributed *normally*, it is a **Gaussian Naive Bayes**. If the classifier assumes it is a bernoulli distribution, then it is a **Bernoulli Naive Bayes**. \n",
    "\n",
    "### Naive Bayes in R\n",
    "In R, we use *naiveBayes* function from *e1071* library."
   ]
  },
  {
   "cell_type": "code",
   "execution_count": 12,
   "metadata": {
    "collapsed": false
   },
   "outputs": [
    {
     "data": {
      "text/plain": [
       "            \n",
       "pred         setosa versicolor virginica\n",
       "  setosa          8          0         0\n",
       "  versicolor      0         14         2\n",
       "  virginica       0          0         6"
      ]
     },
     "metadata": {},
     "output_type": "display_data"
    }
   ],
   "source": [
    "library(e1071)\n",
    "\n",
    "ind <- sample(150, 150*0.8)\n",
    "iris.train <- iris[ind,]\n",
    "iris.test <- iris[-ind,]\n",
    "fit <- naiveBayes(Species~., data=iris.train)\n",
    "\n",
    "pred <- predict(newdata=iris.test, object = fit)\n",
    "table(pred, iris.test$Species)"
   ]
  },
  {
   "cell_type": "markdown",
   "metadata": {
    "collapsed": true
   },
   "source": [
    "## SVM\n",
    "Support Vector Machine is another classification method which is known for its memory friendly nature. In the lecture, we introduced Maximal Margin Classifier since the support vector machine is essentialy a generalization of maximal margin classifer in higher dimentions.\n",
    "\n",
    "### Maximal Margin Classifier\n",
    "Let's take a look at the plot we made for kNN classifier. In this graph, we have 2 classes, A and B, plotted with a red and blue point accordingly. Maximal margin classifer is a classifier to discover an optimal linear separation, called **hyperplane**, which divides different classes. In this situation, we are using 2 dimentional datasets and the hyperplane is a linear model. In general, in a p-dimensinal space, a hyperplane exists in a subspace of p-1 dimension. For example, in a three dimentional space, hyperplane is a 2 dimentional separation, in other words, a plane.\n",
    "\n",
    "Let's look back to the plot from our example. \n",
    "In two dimensions, a hyperplane is represented by the equation\n",
    "\n",
    "$$B_0 + B_1X_1 + B_2X_2= 0$$\n",
    "\n",
    "You can distinguish two classes by wheather or not the equation outputs a negative value or positive value.\n",
    "Margimal margin classifier is essentialy the process to find optimal coefficient values $B_0$, $B_1$ and $B_2$.\n",
    "\n",
    "After finding some candidates for the optimal hyperplane, the classifier predicts new data point based on which side of the hyper plane the point locates. In some specific situations, maximal margin classifier is able to find a perfect linear borderline that divides 2 classes; however, it is very unlikely to have dataset where such a linear division exists. In this case, there will be some data points that locate on a \"wrong\" side of the borderline. \n",
    "\n",
    "The first step of optimizing a hyper plane is to minimize the amount of points which exist on the \"wrong\" side. To do this, we look at borderline cases, more specifically, the data points which exist near the hyperplane. These points are called **support vectors**.\n",
    " \n",
    "### Support Vector Machines\n",
    "We can think of Support Vector Machine as a generalized maximal margin classifier for cases where we cannot linearly separate classes. In this note, we are going to introduce the concpet of **soft margin** and **kernel trick**.\n",
    "\n",
    "In most cases, datasets are not linearly separable. Even if it is separable, there are some cases that we intentianally not to choose such a separation for the **bias** and **sensitivity** trade-offs (Lecture 8). Let's look at specific case. The graph below shows the hyperplane between two classes, blue are red. As you can see the existance of one outlier drasticaly changes the hyperplane. In this case it is better to allow one outlier to fall on to the wrong side. **soft margin support vector machine**.\n",
    "<img src = \"http://yaroslavvb.com/upload/save/so-svm.png\" width = 250/>\n",
    "\n",
    "Mathmatical way to apply this is called a **cost function** and it is represented with $-log(1-\\frac{1}{1+e^{cx}})$. It looks like an exponential function and the coefficient c will change how fast the value increases. This function dictates how much to penalize support vectors for being mislabled. If the penalty value is high, then svm is **hard margin**, while the penalty value is low it is **soft margin**. (This correlates with lecture 8 material)\n",
    "\n",
    "### Non-linear Hyperplane - Kernel Trick \n",
    "Let's take a look at an example. In this scinario, we cannot separate 2 classes with a linear hyperplane. However obvious there is a clear pattern between 2 classes, which should be an oval shape.\n",
    "<img src = \"https://www.analyticsvidhya.com/wp-content/uploads/2015/10/SVM_8.png\" width = 300/>\n",
    "This problem is easily fixed by adding a new feature, z, by solving $x^2 + y^2$. Now the new x-z graph looks like this.\n",
    "<img src = \"https://www.analyticsvidhya.com/wp-content/uploads/2015/10/SVM_9.png\" width = 300/>\n",
    "\n",
    "This process is called a **kernel trick** or a **kernel method**. Support Vector Machine applies functions to transform lower dimentional data to higher dimentional data (in this case, x-y 2D data into x-y-z 3D data). This process is very important to find **non-linear hyperplane**. After transforming the data, we successfully found \n",
    "<img src = \"https://www.analyticsvidhya.com/wp-content/uploads/2015/10/SVM_10.png\" width = 300/>\n",
    "\n",
    "#### Support Vector Regression\n",
    "Even though we introduced Support Vector Machine as an example of classifier, you can also use support vector machine as a regression model. In this situation, you can use the hyporplane generated by SVM as a regression line. \n",
    "\n",
    "### SVM in R\n",
    "In R, we use *svm* function from *e1071* library. This function looks at the data frame and automatically uses SVM as a classifier if you are training categorical values, and it uses as a regression if you are predicting a numeric value. "
   ]
  },
  {
   "cell_type": "code",
   "execution_count": 9,
   "metadata": {
    "collapsed": false
   },
   "outputs": [],
   "source": [
    "# import library e1071\n",
    "library(\"e1071\")\n",
    "\n",
    "# If you are using SVM as a classifier, you need to input non-numeric value to the function\n",
    "svm.classifier <- svm(train_data, as.factor(train_label))"
   ]
  },
  {
   "cell_type": "code",
   "execution_count": 10,
   "metadata": {
    "collapsed": false
   },
   "outputs": [
    {
     "data": {
      "text/html": [
       "0.866666666666667"
      ],
      "text/latex": [
       "0.866666666666667"
      ],
      "text/markdown": [
       "0.866666666666667"
      ],
      "text/plain": [
       "[1] 0.8666667"
      ]
     },
     "metadata": {},
     "output_type": "display_data"
    }
   ],
   "source": [
    "# Now test your SVM model with test_data\n",
    "svm.prediction <- predict(svm.classifier, test_data)\n",
    "\n",
    "# Check the accuracy\n",
    "sum(svm.prediction == test_label) / 30"
   ]
  },
  {
   "cell_type": "code",
   "execution_count": 11,
   "metadata": {
    "collapsed": false
   },
   "outputs": [
    {
     "data": {
      "text/plain": [
       "          svm.prediction\n",
       "test_label -1  1\n",
       "        -1 12  3\n",
       "        1   1 14"
      ]
     },
     "metadata": {},
     "output_type": "display_data"
    }
   ],
   "source": [
    "table(test_label, svm.prediction)"
   ]
  },
  {
   "cell_type": "markdown",
   "metadata": {},
   "source": [
    "Now let's take a look at the classifier model we found by using *summary* function."
   ]
  },
  {
   "cell_type": "code",
   "execution_count": 12,
   "metadata": {
    "collapsed": false
   },
   "outputs": [
    {
     "data": {
      "text/plain": [
       "\n",
       "Call:\n",
       "svm.default(x = train_data, y = as.factor(train_label))\n",
       "\n",
       "\n",
       "Parameters:\n",
       "   SVM-Type:  C-classification \n",
       " SVM-Kernel:  radial \n",
       "       cost:  1 \n",
       "      gamma:  0.5 \n",
       "\n",
       "Number of Support Vectors:  36\n",
       "\n",
       " ( 18 18 )\n",
       "\n",
       "\n",
       "Number of Classes:  2 \n",
       "\n",
       "Levels: \n",
       " -1 1\n",
       "\n",
       "\n"
      ]
     },
     "metadata": {},
     "output_type": "display_data"
    }
   ],
   "source": [
    "summary(svm.classifier)"
   ]
  },
  {
   "cell_type": "markdown",
   "metadata": {},
   "source": [
    "### Optimization\n",
    "\n",
    "Under *Prameters* we see *cost* and *gamma*. These values are the parameters that we can optimize to improve the model. \n",
    "\n",
    "*cost* represents the parameter for the soft margin cost function. This function dictates how much they *penalize* support vectors for being mislabeled. The greater the cost value is, the smaller the margin will become. Intuitively, the classifier tends to overfit when c is too large, but the classifier will lose its prediction ability if it allows too many mislabled support vectors.\n",
    "\n",
    "*gamma* represents the coefficient of nonlinear kernel function (outside of the scope of this lecture). \n",
    "\n",
    "$$F(x,y) = e^{(-\\gamma |x-y|^2)}$$\n",
    "\n",
    "Intuitively, a small gamma means that the difference between parameters will have larger infuluence in variance of the data. This will allow support vectors to have larger influence on classification while larger gamma value will limit the effect of support vectors. In this case, support vectors will have their influence locally.\n",
    "\n",
    "\n",
    "*tune* function from *e1071* library will iteratively try the cost and gamma value within the range you define and give you the optimal parameter.\n",
    "\n",
    "For this example, we are going to try cost from 0.1, 10, 100 and 1000, and gamma value of .5 to 2."
   ]
  },
  {
   "cell_type": "code",
   "execution_count": 16,
   "metadata": {
    "collapsed": false
   },
   "outputs": [
    {
     "data": {
      "text/plain": [
       "\n",
       "Parameter tuning of ‘svm’:\n",
       "\n",
       "- sampling method: 10-fold cross validation \n",
       "\n",
       "- best parameters:\n",
       " gamma cost\n",
       "   0.5  0.1\n",
       "\n",
       "- best performance: 0.07142857 \n"
      ]
     },
     "metadata": {},
     "output_type": "display_data"
    }
   ],
   "source": [
    "# Optimize SVM classifier\n",
    "tune.svm(x = train_data, y = factor(train_label), cost = 10^(-1:3), gamma =c(.5:2))"
   ]
  },
  {
   "cell_type": "markdown",
   "metadata": {},
   "source": [
    "Look under the best parameters. Those values are the suggestions made by *tune* function. Now we can create new svm classifier with suggested values."
   ]
  },
  {
   "cell_type": "code",
   "execution_count": 15,
   "metadata": {
    "collapsed": false
   },
   "outputs": [
    {
     "data": {
      "text/html": [
       "0.8"
      ],
      "text/latex": [
       "0.8"
      ],
      "text/markdown": [
       "0.8"
      ],
      "text/plain": [
       "[1] 0.8"
      ]
     },
     "metadata": {},
     "output_type": "display_data"
    }
   ],
   "source": [
    "# Create new classifier with different parameters\n",
    "tuned_svm_classifier <- svm(train_data, as.factor(train_label), cost = 0.1, gamma = 0.5)\n",
    "tuned_prediction <- predict(tuned_svm_classifier, test_data)\n",
    "\n",
    "# Check the accuracy\n",
    "sum(tuned_prediction == test_label) / 30"
   ]
  }
 ],
 "metadata": {
  "kernelspec": {
   "display_name": "R",
   "language": "R",
   "name": "ir"
  },
  "language_info": {
   "codemirror_mode": "r",
   "file_extension": ".r",
   "mimetype": "text/x-r-source",
   "name": "R",
   "pygments_lexer": "r",
   "version": "3.3.1"
  }
 },
 "nbformat": 4,
 "nbformat_minor": 0
}
