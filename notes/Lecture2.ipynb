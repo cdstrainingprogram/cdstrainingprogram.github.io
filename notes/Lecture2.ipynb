{
 "cells": [
  {
   "cell_type": "markdown",
   "metadata": {
    "collapsed": false
   },
   "source": [
    "# Lecture 2: Data Manipulation\n",
    "\n",
    "Now that we've picked up some basic tools for doing data science, we're ready to sharpen our data handling skills. As you might have already observed, data rarely comes in a neatly packaged “ready-to-use” format. We need to be able to manipulate datasets and shape them as we please so that we can run machine learning algorithms on them. Let's start with geting a little bit more comfortable with R."
   ]
  },
  {
   "cell_type": "markdown",
   "metadata": {},
   "source": [
    "## Writing Fast R\n",
    "\n",
    "R is an excellent language for data science. However, R behaves very differently from commonly used object-oriented languages like Java and Python. Such differences can cause huge inefficiencies to unsuspecting beginners of R. Let's take a look at one of the most misunderstood concepts in R: the inefficiency of using explicit for-loops, as indicated below."
   ]
  },
  {
   "cell_type": "code",
   "execution_count": 15,
   "metadata": {
    "collapsed": false
   },
   "outputs": [
    {
     "data": {
      "text/plain": [
       "   user  system elapsed \n",
       "  0.872   0.003   0.876 "
      ]
     },
     "metadata": {},
     "output_type": "display_data"
    },
    {
     "data": {
      "text/plain": [
       "   user  system elapsed \n",
       "  0.003   0.000   0.003 "
      ]
     },
     "metadata": {},
     "output_type": "display_data"
    }
   ],
   "source": [
    "# Process time comparison of explicit for-loop with implicit loops.\n",
    "vec <- c(1:1000000)\n",
    "\n",
    "# explicit version\n",
    "system.time({for(i in 1:1000000) { \n",
    "    vec[i] <- vec[i] * 2 \n",
    "}})\n",
    "\n",
    "# implicit version\n",
    "system.time({vec <- vec * 2})"
   ]
  },
  {
   "cell_type": "markdown",
   "metadata": {},
   "source": [
    "While both cases above do essentially the __same operation__, the first operation is considerably slower. At this point, most programmers will believe that R is a terrible language. But not so fast!\n",
    "\n",
    "### The less you use R, the faster R gets!\n",
    "The key here is that R is a _high-level language_. This means that R is not actually the underlying machinery behind much of its available functionalities; rather, R uses C and Fortran. Why not just use C you say? That would be a nightmare to utilize. The whole purpose of the R language is to make these low-level programs easy to manage and use in the context of data science.  \n",
    "\n",
    "Each function call in R requires searching through its environment to find the function source code, registering the accompanying parameter inputs, evaluating data structure of handled object, and data type before passing it to C or Fortran. This \"translation\" is the root cause of slow R code. What aggravates this situation is that R objects are mostly _immutable_: R objects cannot be changed once created. There are good reasons - resilience of data being one - for such a choice. But this choice forces R to create new environment and new objects whenever changes are made to an object. \n",
    "\n",
    "### Golden Rule #1 for fast R code: Vectorize\n",
    "Take the first case, for example. What is this code doing? This code forces R to constantly \"change\" objects. In fact, it does so 1000000 times. Every single time, R has to create new environments and figure out data types etc. What about the second case? In this case, R needs to only change this object once. That is, it knows the resulting object's general size will be the same length as the original object even without doing all 1000000 calculations, it needs to create only one additional object and environment, and also can figure out the data types of all elements it will encounter for the entire period. Thus R overhead is significantly lower for the second operation.\n",
    "\n",
    "This concept is known as __vectorization__, and is incredibly important concept in R. \n",
    "\n",
    "### Golden Rule #2 for fast R code: Minimize the number of vectors to operate on\n",
    "Following the first rule, one should aim to vectorize as much as possible. Even then, there are ways to make things more efficient. For a matrix that is longer than wide, we should iterate over column vectors, rather than row vectors. Why? Because this reduces the total number of times R must create new environments and reinitialize."
   ]
  },
  {
   "cell_type": "markdown",
   "metadata": {},
   "source": [
    "### The Apply() Family\n",
    "One way to make streamline vectorization in R is to make use of the `apply` family of functions, also called __functionals__. These are a great substitute for for-loops when a vectorized function isn't immediately available. Under the hood, they have for-loops underneath but try to optimize by minimizing R overhead. \n",
    "\n",
    "Here are some of the more commonly used functions in the `apply` family:\n",
    "\n",
    "* **`apply(X, MARGIN, FUN, ...)`** - returns a vector or array or list of values applying a function 'FUN' to margins 'MARGIN'\n",
    "margin = 1 iterates over rows, margin =2 columns and c(1,2) for each elements. \n",
    "* **`lapply(X, FUN, ...)`** - Iterates over a list object to produce a list.\n",
    "* **`sapply(X, FUN, ...)`** - a wrapper of lapply by default returning a vector or matrix\n",
    "* **`tapply(X, INDEX, FUN)`** - group an atomic object X (typically a vector) by a list of one or more factors and apply a function\n",
    "\n",
    "Please refer the demo below for reference on how to use it!"
   ]
  },
  {
   "cell_type": "code",
   "execution_count": 42,
   "metadata": {
    "collapsed": true
   },
   "outputs": [],
   "source": [
    "# ** is the equivalent of ^ in R. so 10**2 = 100!\n",
    "\n",
    "# apply demo\n",
    "x <- matrix(c(1:10000), nrow = 100)\n",
    "a <- apply(x, 1, FUN = function(x)(x ** 2))\n",
    "\n",
    "a <- apply(x, 2, FUN = mean)\n",
    "\n",
    "a <- apply(x, c(1,2), FUN = function(x){x ** 2})\n",
    "\n",
    "# lapply demo\n",
    "library(datasets)\n",
    "a <- lapply(iris[1], FUN = function(x){x ** 2})\n",
    "\n",
    "# sapply demo\n",
    "a <- sapply(iris[1], FUN = function(x){x ** 2})"
   ]
  },
  {
   "cell_type": "markdown",
   "metadata": {},
   "source": [
    "* There are various other R style tips that have been agreed upon by the R community [3]. As insignificant as they may seem, adopting these conventions makes your code easier to read and understand. Some of the more memorable rules include:\n",
    "  \n",
    "   * Use `<-` instead of `=` for assignment to avoid confusion with function keyword arguments.\n",
    "   * Name your variables using dots as word delimiters, like `my.variable.name`. Don't use `snake_case` or `camelCase`.\n",
    "   * Put spaces around infix operators like `<-` and `*`. For example, `3 * 5` rather than `3*5`\n",
    "      \n",
    "For more style tips, go to https://github.com/jimhester/lintr and scroll to the bottom. You can also download the `lintr` package on CRAN and run it on your code to automatically find violations of these rules (this is called a _linter_)"
   ]
  },
  {
   "cell_type": "markdown",
   "metadata": {},
   "source": [
    "## Cleaning Data\n",
    "\n",
    "If you've already done some data manipulation before, you've probably encountered data that was \"messy\" in some way. These inconsistencies in the data can often be obstacles to productivity. Visualization and analysis are painstaking processes with unclean data, and many of the predictive models built into R simply can't accommodate data that hasn’t been cleaned properly.\n",
    "\n",
    "We can think of the process of doing data science as a pipeline. We put raw data into the pipeline and after doing some work we expect insights, visualizations and predictions to come out. The Statistics Netherlands group has put together this neat visualization describing the pipeline [4]:\n",
    "\n",
    "<img src=\"https://github.com/cdstrainingprogram/cdstrainingprogram.github.io/blob/master/resources/pipeline.png?raw=true\" style=\"width: 350px;\"/>\n",
    "\n",
    "(Source: https://cran.r-project.org/doc/contrib/de_Jonge+van_der_Loo-Introduction_to_data_cleaning_with_R.pdf)\n",
    "\n",
    "Each step of the way, we add value to the data. Raw data is data in its least valuable state, while the final processed results are most valuable. It’s important to understand that the data pipeline isn’t a one-shot, linear process. Sometimes, unexpected results appearing later in the pipeline are sufficient cause for going back to the drawing board and starting back at the top. \n",
    "\n",
    "In large teams, the data pipeline is part of a much larger development operations process that spans across the entire organization. The data cleaned and processed by data scientists is used by software developers, and the results of data scientists’ work are often seen by customers themselves (for example, think of the recommendations produced by Amazon’s or Netflix’s machine learning algorithms). "
   ]
  },
  {
   "cell_type": "markdown",
   "metadata": {},
   "source": [
    "## tidyr - Preprocess for Data Manipulation\n",
    "\n",
    "Datasets are deemed to be organized and easy to work with if all rows are *observations* and all columns are *variables*. Often this process requires very meticulous preprocessing on datasets. This task becomes daunting as the data becomes larger and larger. Even though the standard R already includes functions to support such a preprocessing, we are going to introduce a library, tidyr, which helps us organize data easily.\n",
    "\n",
    "First let's take a look at an example of a \"messy\" dataset."
   ]
  },
  {
   "cell_type": "code",
   "execution_count": 43,
   "metadata": {
    "collapsed": false
   },
   "outputs": [
    {
     "data": {
      "text/html": [
       "<table>\n",
       "<thead><tr><th scope=col>Name</th><th scope=col>Freshman</th><th scope=col>Sophomore</th><th scope=col>Junior</th></tr></thead>\n",
       "<tbody>\n",
       "\t<tr><td>Hermione</td><td>4       </td><td>4.3     </td><td>4.1     </td></tr>\n",
       "</tbody>\n",
       "</table>\n"
      ],
      "text/latex": [
       "\\begin{tabular}{r|llll}\n",
       " Name & Freshman & Sophomore & Junior\\\\\n",
       "\\hline\n",
       "\t Hermione & 4        & 4.3      & 4.1     \\\\\n",
       "\\end{tabular}\n"
      ],
      "text/plain": [
       "  Name     Freshman Sophomore Junior\n",
       "1 Hermione 4        4.3       4.1   "
      ]
     },
     "metadata": {},
     "output_type": "display_data"
    }
   ],
   "source": [
    "# sample data.frame\n",
    "sample1 <- data.frame(\"Name\" = \"Hermione\", \"Freshman\" = 4.0, \"Sophomore\" = 4.3, \"Junior\" = 4.1)\n",
    "sample1"
   ]
  },
  {
   "cell_type": "markdown",
   "metadata": {},
   "source": [
    "This data.frame contains GPA of students. Even though this data might look fine, it is not exactly a \"tidy\" data yet. Every year, each student will have a new GPA for the year and it will be added to this database. Therefore, the year of a student and GPA are both observations. However, in this table, the year of a student is treated as a variable. We can easily fix this by using *gather( )* funciton."
   ]
  },
  {
   "cell_type": "code",
   "execution_count": 46,
   "metadata": {
    "collapsed": false
   },
   "outputs": [
    {
     "data": {
      "text/html": [
       "<table>\n",
       "<thead><tr><th scope=col>Name</th><th scope=col>Year</th><th scope=col>GPA</th></tr></thead>\n",
       "<tbody>\n",
       "\t<tr><td>Hermione </td><td>Freshman </td><td>4.0      </td></tr>\n",
       "\t<tr><td>Hermione </td><td>Sophomore</td><td>4.3      </td></tr>\n",
       "\t<tr><td>Hermione </td><td>Junior   </td><td>4.1      </td></tr>\n",
       "</tbody>\n",
       "</table>\n"
      ],
      "text/latex": [
       "\\begin{tabular}{r|lll}\n",
       " Name & Year & GPA\\\\\n",
       "\\hline\n",
       "\t Hermione  & Freshman  & 4.0      \\\\\n",
       "\t Hermione  & Sophomore & 4.3      \\\\\n",
       "\t Hermione  & Junior    & 4.1      \\\\\n",
       "\\end{tabular}\n"
      ],
      "text/plain": [
       "  Name     Year      GPA\n",
       "1 Hermione Freshman  4.0\n",
       "2 Hermione Sophomore 4.3\n",
       "3 Hermione Junior    4.1"
      ]
     },
     "metadata": {},
     "output_type": "display_data"
    }
   ],
   "source": [
    "# import tidyr\n",
    "library(tidyr)\n",
    "\n",
    "# DEMO for gather\n",
    "gathered <- gather(sample1, Year, GPA, Freshman:Junior)\n",
    "gathered"
   ]
  },
  {
   "cell_type": "markdown",
   "metadata": {},
   "source": [
    "Function *spread( )* is a complement to *gather( )*"
   ]
  },
  {
   "cell_type": "code",
   "execution_count": 47,
   "metadata": {
    "collapsed": false
   },
   "outputs": [
    {
     "data": {
      "text/html": [
       "<table>\n",
       "<thead><tr><th scope=col>Name</th><th scope=col>Freshman</th><th scope=col>Junior</th><th scope=col>Sophomore</th></tr></thead>\n",
       "<tbody>\n",
       "\t<tr><td>Hermione</td><td>4       </td><td>4.1     </td><td>4.3     </td></tr>\n",
       "</tbody>\n",
       "</table>\n"
      ],
      "text/latex": [
       "\\begin{tabular}{r|llll}\n",
       " Name & Freshman & Junior & Sophomore\\\\\n",
       "\\hline\n",
       "\t Hermione & 4        & 4.1      & 4.3     \\\\\n",
       "\\end{tabular}\n"
      ],
      "text/plain": [
       "  Name     Freshman Junior Sophomore\n",
       "1 Hermione 4        4.1    4.3      "
      ]
     },
     "metadata": {},
     "output_type": "display_data"
    }
   ],
   "source": [
    "# DEMO for spread\n",
    "spread(gathered, Year, GPA)"
   ]
  },
  {
   "cell_type": "markdown",
   "metadata": {},
   "source": [
    "While *gather( )* takes multiple columns and convine them, *unite( )* and *spread( )* can manipulate data from single column. Let's take a look."
   ]
  },
  {
   "cell_type": "code",
   "execution_count": 48,
   "metadata": {
    "collapsed": false
   },
   "outputs": [
    {
     "data": {
      "text/html": [
       "<table>\n",
       "<thead><tr><th scope=col>Profile</th></tr></thead>\n",
       "<tbody>\n",
       "\t<tr><td>Amit: CS   </td></tr>\n",
       "\t<tr><td>Dae Won: OR</td></tr>\n",
       "\t<tr><td>Chase: IS  </td></tr>\n",
       "\t<tr><td>Jared: CS  </td></tr>\n",
       "\t<tr><td>Kenta: CS  </td></tr>\n",
       "</tbody>\n",
       "</table>\n"
      ],
      "text/latex": [
       "\\begin{tabular}{r|l}\n",
       " Profile\\\\\n",
       "\\hline\n",
       "\t Amit: CS   \\\\\n",
       "\t Dae Won: OR\\\\\n",
       "\t Chase: IS  \\\\\n",
       "\t Jared: CS  \\\\\n",
       "\t Kenta: CS  \\\\\n",
       "\\end{tabular}\n"
      ],
      "text/plain": [
       "  Profile    \n",
       "1 Amit: CS   \n",
       "2 Dae Won: OR\n",
       "3 Chase: IS  \n",
       "4 Jared: CS  \n",
       "5 Kenta: CS  "
      ]
     },
     "metadata": {},
     "output_type": "display_data"
    }
   ],
   "source": [
    "# sample data.frame\n",
    "sample2 <- data.frame(\"Profile\" = c(\"Amit: CS\", \"Dae Won: OR\", \"Chase: IS\", \"Jared: CS\", \"Kenta: CS\"))\n",
    "sample2"
   ]
  },
  {
   "cell_type": "markdown",
   "metadata": {},
   "source": [
    "Let's split Profile column into 2 columns, Name and Major"
   ]
  },
  {
   "cell_type": "code",
   "execution_count": 49,
   "metadata": {
    "collapsed": false
   },
   "outputs": [
    {
     "data": {
      "text/html": [
       "<table>\n",
       "<thead><tr><th scope=col>Name</th><th scope=col>Major</th></tr></thead>\n",
       "<tbody>\n",
       "\t<tr><td>Amit   </td><td>CS     </td></tr>\n",
       "\t<tr><td>Dae Won</td><td>OR     </td></tr>\n",
       "\t<tr><td>Chase  </td><td>IS     </td></tr>\n",
       "\t<tr><td>Jared  </td><td>CS     </td></tr>\n",
       "\t<tr><td>Kenta  </td><td>CS     </td></tr>\n",
       "</tbody>\n",
       "</table>\n"
      ],
      "text/latex": [
       "\\begin{tabular}{r|ll}\n",
       " Name & Major\\\\\n",
       "\\hline\n",
       "\t Amit    & CS     \\\\\n",
       "\t Dae Won & OR     \\\\\n",
       "\t Chase   & IS     \\\\\n",
       "\t Jared   & CS     \\\\\n",
       "\t Kenta   & CS     \\\\\n",
       "\\end{tabular}\n"
      ],
      "text/plain": [
       "  Name    Major\n",
       "1 Amit    CS   \n",
       "2 Dae Won OR   \n",
       "3 Chase   IS   \n",
       "4 Jared   CS   \n",
       "5 Kenta   CS   "
      ]
     },
     "metadata": {},
     "output_type": "display_data"
    }
   ],
   "source": [
    "# DEMO for separate\n",
    "separated <- separate(sample2, Profile, c(\"Name\", \"Major\"), sep = \": \")\n",
    "separated"
   ]
  },
  {
   "cell_type": "markdown",
   "metadata": {},
   "source": [
    "Similar to *spread( )*, *unite( )* is a complement to *separate( )*."
   ]
  },
  {
   "cell_type": "code",
   "execution_count": 50,
   "metadata": {
    "collapsed": false
   },
   "outputs": [
    {
     "data": {
      "text/html": [
       "<table>\n",
       "<thead><tr><th scope=col>TAs</th></tr></thead>\n",
       "<tbody>\n",
       "\t<tr><td><span style=white-space:pre-wrap>Amit -&gt; CS   </span></td></tr>\n",
       "\t<tr><td>Dae Won -&gt; OR</td></tr>\n",
       "\t<tr><td><span style=white-space:pre-wrap>Chase -&gt; IS  </span></td></tr>\n",
       "\t<tr><td><span style=white-space:pre-wrap>Jared -&gt; CS  </span></td></tr>\n",
       "\t<tr><td><span style=white-space:pre-wrap>Kenta -&gt; CS  </span></td></tr>\n",
       "</tbody>\n",
       "</table>\n"
      ],
      "text/latex": [
       "\\begin{tabular}{r|l}\n",
       " TAs\\\\\n",
       "\\hline\n",
       "\t Amit -> CS   \\\\\n",
       "\t Dae Won -> OR\\\\\n",
       "\t Chase -> IS  \\\\\n",
       "\t Jared -> CS  \\\\\n",
       "\t Kenta -> CS  \\\\\n",
       "\\end{tabular}\n"
      ],
      "text/plain": [
       "  TAs          \n",
       "1 Amit -> CS   \n",
       "2 Dae Won -> OR\n",
       "3 Chase -> IS  \n",
       "4 Jared -> CS  \n",
       "5 Kenta -> CS  "
      ]
     },
     "metadata": {},
     "output_type": "display_data"
    }
   ],
   "source": [
    "unite(separated, \"TAs\", c(Name, Major), sep = \" -> \")"
   ]
  },
  {
   "cell_type": "markdown",
   "metadata": {},
   "source": [
    "In large teams, the data pipeline is part of a much larger development operations process that spans across the entire organization. The data cleaned and processed by data scientists is used by software developers, and the results of data scientists’ work are often seen by customers themselves (for example, think of the recommendations produced by Amazon’s or Netflix’s machine learning algorithms). \n",
    "\n",
    "For more information on the data pipeline, check out this paper: https://cran.r-project.org/doc/contrib/de_Jonge+van_der_Loo-Introduction_to_data_cleaning_with_R.pdf\n",
    "\n",
    "Let’s now dive into the specifics. Below we cover eleven techniques for making data easier to work with."
   ]
  },
  {
   "cell_type": "markdown",
   "metadata": {},
   "source": [
    "## Data Manipulation Toolbox\n",
    "\n",
    "Let’s think about how we can transform data into formats that are easy to work with. Conceptually, we can think of a dataset as a matrix with data points as rows and variables (__features__) as columns. \n",
    "\n",
    "We could choose to extract certain rows from the matrix and ignore others. Similarly, we could focus our attention on certain columns and ignore the rest. We could also combine matrices with each other, perform mathematical transformations on them, or attempt to summarize their contents. These operations make up the vocabulary of data manipulation.\n",
    "\n",
    "We’re going to look at each of these tools in detail and see how they can be implemented in R using both builtin functions and the dplyr package. For those who know SQL, examples are also provided using sqldf, an R library that allows SQL querying on R objects."
   ]
  },
  {
   "cell_type": "code",
   "execution_count": 51,
   "metadata": {
    "collapsed": false
   },
   "outputs": [],
   "source": [
    "library(dplyr)\n",
    "library(plyr)\n",
    "library(sqldf)\n",
    "\n",
    "dat <- iris"
   ]
  },
  {
   "cell_type": "markdown",
   "metadata": {},
   "source": [
    "### Data Manipulation Tool #1: Filtering\n",
    "\n",
    "Filtering is selecting a subset of a data frame’s rows. This is a way of capturing only those rows (data points) that satisfy a certain property. This is useful if you want to ignore data points that won’t be useful for your analysis, or separate out specific data points that might be especially useful."
   ]
  },
  {
   "cell_type": "code",
   "execution_count": 52,
   "metadata": {
    "collapsed": false
   },
   "outputs": [],
   "source": [
    "#filtering\n",
    "example <- dat[which(dat$Sepal.Length>6),]      #base function\n",
    "example <- dplyr::filter(dat, Sepal.Length > 6) #dplyr function\n",
    "example <- sqldf(\"SELECT * FROM dat WHERE [Sepal.Length]>6\")       #sql WHERE clause"
   ]
  },
  {
   "cell_type": "markdown",
   "metadata": {},
   "source": [
    "### Data Manipulation Tool #2: Subsetting\n",
    "\n",
    "Subsetting is selecting a subset of a data frame’s columns. You’d use subsetting when you want to capture only part of the attributes of each data point. Use subsetting when you want to focus on specific variables in the data and ignore those variables that are irrelevant.\n",
    "\n",
    "Subsetting will come in handy in a few lectures when we discuss things like feature selection and model optimization."
   ]
  },
  {
   "cell_type": "code",
   "execution_count": 53,
   "metadata": {
    "collapsed": true
   },
   "outputs": [],
   "source": [
    "#Subset selection\n",
    "example <- dat[,c(1,3,4)]                       #Matrix notation\n",
    "example <- dat[c(1,3,4)]                        #List notation\n",
    "example_1 <- dplyr::select(dat, c(1,3,4))       #dplyr select \n",
    "example_2 <- dplyr::select(dat,Sepal.Width)     #dplyr select\n",
    "example<-sqldf(\"SELECT [Sepal.Length] FROM dat\")#sql SELECT clause"
   ]
  },
  {
   "cell_type": "markdown",
   "metadata": {},
   "source": [
    "### Data Manipulation Tool #3: Combining\n",
    "\n",
    "Merging is used when you want to glue two data sets together. You can do this in one of two ways:\n",
    "\n",
    "1. Combine the data sets by column. This results in the two datasets pasted side-by-side, combined into a single data frame.\n",
    "\n",
    "2. Combine the data sets by row. This results in a long dataset in which the first group of rows belongs to the first dataset and the second group of rows belongs to the second dataset."
   ]
  },
  {
   "cell_type": "code",
   "execution_count": 26,
   "metadata": {
    "collapsed": true
   },
   "outputs": [],
   "source": [
    "#Combining datasets\n",
    "ind <- c(1:nrow(dat))\n",
    "example_1<-cbind(ind,example_1)                 #combine by column\n",
    "example_2<-cbind(ind,example_2)     \n",
    "weird_example <- rbind(example, example)        #Combine by row"
   ]
  },
  {
   "cell_type": "markdown",
   "metadata": {},
   "source": [
    "### Data Manipulation Tool #4: Joining\n",
    "\n",
    "Joining is a variant of merging that takes an extra step: it fuses together rows that have the same value for a column. This is useful for combining two tables that refer to different parts of the same data. In the example below, the tables are related by the variable `ind`."
   ]
  },
  {
   "cell_type": "code",
   "execution_count": 37,
   "metadata": {
    "collapsed": true
   },
   "outputs": [],
   "source": [
    "#Joining (think VLOOKUP)\n",
    "example <- merge(example_1,example_2,by='ind')  #base R function\n",
    "example <- plyr::join(example_1,example_2,\n",
    "                      by='ind',type='left')     #plyr join\n",
    "example <- sqldf(\"SELECT * FROM example_1 LEFT JOIN example_2 ON example_1.ind=example_2.ind\")    #sql join"
   ]
  },
  {
   "cell_type": "markdown",
   "metadata": {},
   "source": [
    "### Data Manipulation Tool #5: Feature Generation using dplyr::mutate\n",
    "\n",
    "Mutating applies an operation to every element in a data frame. You can think of it as a more general version of the `apply` functions encountered earlier. Mutation is useful when you want to apply mathematical operations to every element in a column or every row in a data frame. \n",
    "\n",
    "We’ll see that mutation is useful for things like standardizing and normalizing, which are in the Data Cleaning Toolbox section below.\n"
   ]
  },
  {
   "cell_type": "code",
   "execution_count": 28,
   "metadata": {
    "collapsed": false
   },
   "outputs": [
    {
     "data": {
      "text/html": [
       "<table>\n",
       "<thead><tr><th scope=col>Sepal.Length</th><th scope=col>Sepal.Width</th><th scope=col>Petal.Length</th><th scope=col>Petal.Width</th><th scope=col>Species</th><th scope=col>new_feature</th></tr></thead>\n",
       "<tbody>\n",
       "\t<tr><td>5.1   </td><td>3.5   </td><td>1.4   </td><td>0.2   </td><td>setosa</td><td>4.52  </td></tr>\n",
       "\t<tr><td>4.9   </td><td>3.0   </td><td>1.4   </td><td>0.2   </td><td>setosa</td><td>3.98  </td></tr>\n",
       "</tbody>\n",
       "</table>\n"
      ],
      "text/latex": [
       "\\begin{tabular}{r|llllll}\n",
       " Sepal.Length & Sepal.Width & Petal.Length & Petal.Width & Species & new\\_feature\\\\\n",
       "\\hline\n",
       "\t 5.1    & 3.5    & 1.4    & 0.2    & setosa & 4.52  \\\\\n",
       "\t 4.9    & 3.0    & 1.4    & 0.2    & setosa & 3.98  \\\\\n",
       "\\end{tabular}\n"
      ],
      "text/plain": [
       "  Sepal.Length Sepal.Width Petal.Length Petal.Width Species new_feature\n",
       "1 5.1          3.5         1.4          0.2         setosa  4.52       \n",
       "2 4.9          3.0         1.4          0.2         setosa  3.98       "
      ]
     },
     "metadata": {},
     "output_type": "display_data"
    }
   ],
   "source": [
    "# mutating - feature generation\n",
    "iris_new <- mutate(.data=iris, new_feature = Sepal.Width + Sepal.Length*Petal.Width)\n",
    "head(iris_new,2)"
   ]
  },
  {
   "cell_type": "markdown",
   "metadata": {},
   "source": [
    "### Data Manipulation Tool #6: Summarizing\n",
    "\n",
    "Summarizing is a general term that refers to computing any sort of statistics or information about the data frame as a whole. You may want to compute the mean or standard deviation of a column, or count the number of instances of a particular occurrence in the dataset. Summarizing is a powerful way to understand the underlying mechanics of a dataset. Note that the British spelling (summarise) is used."
   ]
  },
  {
   "cell_type": "code",
   "execution_count": 36,
   "metadata": {
    "collapsed": true
   },
   "outputs": [],
   "source": [
    "#aggregation and counting\n",
    "df <- aggregate(formula = Petal.Width~Species,  #aggregate mean\n",
    "                data = iris, FUN=mean)\n",
    "df <- plyr::count(iris, vars='Species')         #count using plyr\n",
    "df <- sqldf(\"SELECT Species,count(Species)      \n",
    "            AS count FROM iris\n",
    "            GROUP BY species\")                  #count using sql\n",
    "\n",
    "#summarize\n",
    "df <- summarise(iris, avg = mean(Sepal.Length)) #summary statistic\n",
    "df <- summarise_each(iris[1:4], funs(mean))"
   ]
  },
  {
   "cell_type": "markdown",
   "metadata": {},
   "source": [
    "## Techniques for Working with Data\n",
    "\n",
    "We’ve learned the grammar of data manipulation. Now it’s time to perform higher level operations on our data. We’ll be using our newfound knowledge of data manipulation techniques to perform these operations.\n",
    "\n",
    "There are no hard and fast rules for working with data, but we’d like to share a few techniques that work well when converting a dataset into a usable format."
   ]
  },
  {
   "cell_type": "markdown",
   "metadata": {},
   "source": [
    "### Technique #1: Binning\n",
    "\n",
    "Often, you will encounter numerical variables that can be discretized into several categories.  By converting these variables into discrete chunks (a process called binning), you can make your model more interpretable and have greater flexibility when dealing with different ranges of values [5].\n",
    "\n",
    "For example, consider a dataset the distribution of weights of various boxers.  If your goal is to predict the performance of a given boxer, you could bin  the  data  into  weight  classes  (lightweight,  middleweight,  and  heavyweight).  By doing this, you improve predictive performance since boxers in the same weight category are matched against each other."
   ]
  },
  {
   "cell_type": "code",
   "execution_count": 30,
   "metadata": {
    "collapsed": false
   },
   "outputs": [
    {
     "data": {
      "text/html": [
       "<table>\n",
       "<thead><tr><th scope=col>original</th><th scope=col>bins</th></tr></thead>\n",
       "<tbody>\n",
       "\t<tr><td>6.5        </td><td>(6.27,6.9] </td></tr>\n",
       "\t<tr><td>6.9        </td><td>(6.27,6.9] </td></tr>\n",
       "\t<tr><td>5.8        </td><td>(5.63,6.27]</td></tr>\n",
       "\t<tr><td>5.0        </td><td>(5,5.63]   </td></tr>\n",
       "\t<tr><td>6.0        </td><td>(5.63,6.27]</td></tr>\n",
       "\t<tr><td>6.4        </td><td>(6.27,6.9] </td></tr>\n",
       "\t<tr><td>5.8        </td><td>(5.63,6.27]</td></tr>\n",
       "\t<tr><td>6.1        </td><td>(5.63,6.27]</td></tr>\n",
       "\t<tr><td>6.1        </td><td>(5.63,6.27]</td></tr>\n",
       "\t<tr><td>6.0        </td><td>(5.63,6.27]</td></tr>\n",
       "</tbody>\n",
       "</table>\n"
      ],
      "text/latex": [
       "\\begin{tabular}{r|ll}\n",
       " original & bins\\\\\n",
       "\\hline\n",
       "\t 6.5           & (6.27,6.9{]} \\\\\n",
       "\t 6.9           & (6.27,6.9{]} \\\\\n",
       "\t 5.8           & (5.63,6.27{]}\\\\\n",
       "\t 5.0           & (5,5.63{]}   \\\\\n",
       "\t 6.0           & (5.63,6.27{]}\\\\\n",
       "\t 6.4           & (6.27,6.9{]} \\\\\n",
       "\t 5.8           & (5.63,6.27{]}\\\\\n",
       "\t 6.1           & (5.63,6.27{]}\\\\\n",
       "\t 6.1           & (5.63,6.27{]}\\\\\n",
       "\t 6.0           & (5.63,6.27{]}\\\\\n",
       "\\end{tabular}\n"
      ],
      "text/plain": [
       "   original bins       \n",
       "1  6.5      (6.27,6.9] \n",
       "2  6.9      (6.27,6.9] \n",
       "3  5.8      (5.63,6.27]\n",
       "4  5.0      (5,5.63]   \n",
       "5  6.0      (5.63,6.27]\n",
       "6  6.4      (6.27,6.9] \n",
       "7  5.8      (5.63,6.27]\n",
       "8  6.1      (5.63,6.27]\n",
       "9  6.1      (5.63,6.27]\n",
       "10 6.0      (5.63,6.27]"
      ]
     },
     "metadata": {},
     "output_type": "display_data"
    }
   ],
   "source": [
    "# Code example of binning the Sepal.Length feature \n",
    "# of a random sample of 10 iris data points into three bins\n",
    "\n",
    "ind <- sample(c(1:150),10) # randomly sample 10 indices to look at from 150 rows of Iris\n",
    "dat <- iris[ind,1]         # take the 10 random data points in iris' Sepal.length feature  \n",
    "original.dat <- dat # originial format\n",
    "\n",
    "#binning using cut()\n",
    "bins<- cut(original.dat,3)\n",
    "\n",
    "result <- as.data.frame(list(original.dat, bins))\n",
    "names(result) <- c(\"original\",\"bins\")\n",
    "result"
   ]
  },
  {
   "cell_type": "markdown",
   "metadata": {},
   "source": [
    "### Technique #2: Normalizing and Standardize\n",
    "\n",
    "__Normalize:__\n",
    "Many predictive models work best when features follow a bell curve. In statistical terms, this is called normal (Gaussian) distribution and it occurs when most of the data is centered around the mean. Data can sometimes be skewed to the left or right. Examples of skewed datasets are shown below:\n",
    "\n",
    "<img src=\"https://upload.wikimedia.org/wikipedia/commons/thumb/f/f8/Negative_and_positive_skew_diagrams_(English).svg/446px-Negative_and_positive_skew_diagrams_(English).svg.png\"></img>\n",
    "\n",
    "(Source: https://upload.wikimedia.org/wikipedia/commons/thumb/f/f8/Negative_and_positive_skew_diagrams_(English).svg/446px-Negative_and_positive_skew_diagrams_(English).svg.png)\n",
    "\n",
    "This handout from Northern Arizona University illustrates some of the transformations you can apply if your dataset is skewed: http://oak.ucc.nau.edu/rh232/courses/eps625/handouts/data%20transformation%20handout.pdf"
   ]
  },
  {
   "cell_type": "markdown",
   "metadata": {},
   "source": [
    "__Standardize:__\n",
    "\n",
    "Some models can be influenced by the magnitude of your features, giving undue weight to certain variables simply because they’re larger in size. Because of this, it's often a good idea to standardize features that are approximately distributed in a bell curve - this gives them a mean of 0 and a standard deviation of 1.\n",
    "    \n",
    "Note: you should only use standardization if you won't lose any information by reducing the scale of the feature. Certain features, like latitude and longitude, may need to be preserved as they are. You should only use standardization if what matters is the relative differences between values, not the values themselves [5]."
   ]
  },
  {
   "cell_type": "code",
   "execution_count": 34,
   "metadata": {
    "collapsed": false
   },
   "outputs": [
    {
     "data": {
      "image/png": "[encoded data removed]",
      "text/plain": [
       "Plot with title “Histogram of vec”"
      ]
     },
     "metadata": {},
     "output_type": "display_data"
    }
   ],
   "source": [
    "# Both can be done using scale(), use scale.\n",
    "# center parameter subtracts the mean from the values\n",
    "# scale divides by the standard deviation.\n",
    "vec <- runif(1000)\n",
    "hist(vec)"
   ]
  },
  {
   "cell_type": "code",
   "execution_count": 35,
   "metadata": {
    "collapsed": false
   },
   "outputs": [
    {
     "data": {
      "image/png": "[encoded data removed]",
      "text/plain": [
       "Plot with title “Histogram of standard.vec”"
      ]
     },
     "metadata": {},
     "output_type": "display_data"
    }
   ],
   "source": [
    "standard.vec <- scale(vec, scale=T, center=T)\n",
    "hist(standard.vec)\n",
    "\n",
    "#use log() or sqrt() to transform data for your needs"
   ]
  },
  {
   "cell_type": "markdown",
   "metadata": {},
   "source": [
    "### Technique #4: Numerical Encoding\n",
    "\n",
    "Some types of categorical data have an inherent ordering - for example, a person’s standing in college (Freshman < Sophomore < Junior < Senior). We might want to capture this when performing regression on data - to do so, we can convert categorical data into a numerical ordering."
   ]
  },
  {
   "cell_type": "code",
   "execution_count": 32,
   "metadata": {
    "collapsed": false
   },
   "outputs": [
    {
     "data": {
      "text/html": [
       "<ol class=list-inline>\n",
       "\t<li>'Freshman'</li>\n",
       "\t<li>'Freshman'</li>\n",
       "\t<li>'Sophomore'</li>\n",
       "\t<li>'Sophomore'</li>\n",
       "\t<li>'Junior'</li>\n",
       "\t<li>'Junior'</li>\n",
       "\t<li>'Senior'</li>\n",
       "\t<li>'Senior'</li>\n",
       "</ol>\n"
      ],
      "text/latex": [
       "\\begin{enumerate*}\n",
       "\\item 'Freshman'\n",
       "\\item 'Freshman'\n",
       "\\item 'Sophomore'\n",
       "\\item 'Sophomore'\n",
       "\\item 'Junior'\n",
       "\\item 'Junior'\n",
       "\\item 'Senior'\n",
       "\\item 'Senior'\n",
       "\\end{enumerate*}\n"
      ],
      "text/markdown": [
       "1. 'Freshman'\n",
       "2. 'Freshman'\n",
       "3. 'Sophomore'\n",
       "4. 'Sophomore'\n",
       "5. 'Junior'\n",
       "6. 'Junior'\n",
       "7. 'Senior'\n",
       "8. 'Senior'\n",
       "\n",
       "\n"
      ],
      "text/plain": [
       "[1] \"Freshman\"  \"Freshman\"  \"Sophomore\" \"Sophomore\" \"Junior\"    \"Junior\"   \n",
       "[7] \"Senior\"    \"Senior\"   "
      ]
     },
     "metadata": {},
     "output_type": "display_data"
    },
    {
     "data": {
      "text/html": [
       "<ol class=list-inline>\n",
       "\t<li>1</li>\n",
       "\t<li>1</li>\n",
       "\t<li>2</li>\n",
       "\t<li>2</li>\n",
       "\t<li>3</li>\n",
       "\t<li>3</li>\n",
       "\t<li>4</li>\n",
       "\t<li>4</li>\n",
       "</ol>\n"
      ],
      "text/latex": [
       "\\begin{enumerate*}\n",
       "\\item 1\n",
       "\\item 1\n",
       "\\item 2\n",
       "\\item 2\n",
       "\\item 3\n",
       "\\item 3\n",
       "\\item 4\n",
       "\\item 4\n",
       "\\end{enumerate*}\n"
      ],
      "text/markdown": [
       "1. 1\n",
       "2. 1\n",
       "3. 2\n",
       "4. 2\n",
       "5. 3\n",
       "6. 3\n",
       "7. 4\n",
       "8. 4\n",
       "\n",
       "\n"
      ],
      "text/plain": [
       "[1] 1 1 2 2 3 3 4 4"
      ]
     },
     "metadata": {},
     "output_type": "display_data"
    },
    {
     "data": {
      "text/html": [
       "<ol class=list-inline>\n",
       "\t<li>'Freshman'</li>\n",
       "\t<li>'Freshman'</li>\n",
       "\t<li>'Junior'</li>\n",
       "\t<li>'Junior'</li>\n",
       "\t<li>'Sophomore'</li>\n",
       "\t<li>'Sophomore'</li>\n",
       "\t<li>'Senior'</li>\n",
       "\t<li>'Senior'</li>\n",
       "</ol>\n"
      ],
      "text/latex": [
       "\\begin{enumerate*}\n",
       "\\item 'Freshman'\n",
       "\\item 'Freshman'\n",
       "\\item 'Junior'\n",
       "\\item 'Junior'\n",
       "\\item 'Sophomore'\n",
       "\\item 'Sophomore'\n",
       "\\item 'Senior'\n",
       "\\item 'Senior'\n",
       "\\end{enumerate*}\n"
      ],
      "text/markdown": [
       "1. 'Freshman'\n",
       "2. 'Freshman'\n",
       "3. 'Junior'\n",
       "4. 'Junior'\n",
       "5. 'Sophomore'\n",
       "6. 'Sophomore'\n",
       "7. 'Senior'\n",
       "8. 'Senior'\n",
       "\n",
       "\n"
      ],
      "text/plain": [
       "[1] \"Freshman\"  \"Freshman\"  \"Junior\"    \"Junior\"    \"Sophomore\" \"Sophomore\"\n",
       "[7] \"Senior\"    \"Senior\"   "
      ]
     },
     "metadata": {},
     "output_type": "display_data"
    },
    {
     "data": {
      "text/html": [
       "<ol class=list-inline>\n",
       "\t<li>1</li>\n",
       "\t<li>1</li>\n",
       "\t<li>3</li>\n",
       "\t<li>3</li>\n",
       "\t<li>2</li>\n",
       "\t<li>2</li>\n",
       "\t<li>4</li>\n",
       "\t<li>4</li>\n",
       "</ol>\n"
      ],
      "text/latex": [
       "\\begin{enumerate*}\n",
       "\\item 1\n",
       "\\item 1\n",
       "\\item 3\n",
       "\\item 3\n",
       "\\item 2\n",
       "\\item 2\n",
       "\\item 4\n",
       "\\item 4\n",
       "\\end{enumerate*}\n"
      ],
      "text/markdown": [
       "1. 1\n",
       "2. 1\n",
       "3. 3\n",
       "4. 3\n",
       "5. 2\n",
       "6. 2\n",
       "7. 4\n",
       "8. 4\n",
       "\n",
       "\n"
      ],
      "text/plain": [
       "[1] 1 1 3 3 2 2 4 4"
      ]
     },
     "metadata": {},
     "output_type": "display_data"
    }
   ],
   "source": [
    "a <- c(rep(\"Freshman\",2),rep(\"Sophomore\",2),rep(\"Junior\",2),rep(\"Senior\",2))\n",
    "a\n",
    "\n",
    "#simple way of doing it\n",
    "a[which(a==\"Freshman\")] <- 1\n",
    "a[which(a==\"Sophomore\")] <- 2\n",
    "a[which(a==\"Junior\")] <- 3\n",
    "a[which(a==\"Senior\")] <- 4\n",
    "as.numeric(a)\n",
    "\n",
    "#Second way: encode as factor\n",
    "\n",
    "#create an unordered vector\n",
    "a <- c(rep(\"Freshman\",2),rep(\"Junior\",2),rep(\"Sophomore\",2),rep(\"Senior\",2))\n",
    "a\n",
    "\n",
    "#define the order of factor in levels parameter\n",
    "x <- factor(a, levels =c(\"Freshman\", \"Sophomore\",\"Junior\",\"Senior\"))\n",
    "x <- as.numeric(x)\n",
    "x"
   ]
  },
  {
   "cell_type": "markdown",
   "metadata": {},
   "source": [
    "### Technique #5: Dummy Variables\n",
    "\n",
    "In R, factors are stored internally as numbers. For example, if your dataset was a list of people enrolled in the Cornell Data Science training program, the `Major` feature could be stored as 0 for Computer Science, 1 for Information Science, and so on. If you have a factor with n levels, you can create n binary dummy variables, each one representing whether the factor takes on its corresponding level.\n",
    "        \n",
    "To use the example above, you could have a `ComputerScience` variable which is 0 if the student's major is not computer science and 1 if the student's major is computer science. You could create an `InformationScience` feature in a similar way, and so on.\n",
    "\n",
    "Dummy variables make models more interpretable and allow you to isolate the effects that certain levels of categorical features can have."
   ]
  },
  {
   "cell_type": "code",
   "execution_count": 33,
   "metadata": {
    "collapsed": false
   },
   "outputs": [
    {
     "data": {
      "text/html": [
       "<ol class=list-inline>\n",
       "\t<li>'Freshman'</li>\n",
       "\t<li>'Freshman'</li>\n",
       "\t<li>'Junior'</li>\n",
       "\t<li>'Junior'</li>\n",
       "\t<li>'Sophomore'</li>\n",
       "\t<li>'Sophomore'</li>\n",
       "\t<li>'Senior'</li>\n",
       "\t<li>'Senior'</li>\n",
       "</ol>\n"
      ],
      "text/latex": [
       "\\begin{enumerate*}\n",
       "\\item 'Freshman'\n",
       "\\item 'Freshman'\n",
       "\\item 'Junior'\n",
       "\\item 'Junior'\n",
       "\\item 'Sophomore'\n",
       "\\item 'Sophomore'\n",
       "\\item 'Senior'\n",
       "\\item 'Senior'\n",
       "\\end{enumerate*}\n"
      ],
      "text/markdown": [
       "1. 'Freshman'\n",
       "2. 'Freshman'\n",
       "3. 'Junior'\n",
       "4. 'Junior'\n",
       "5. 'Sophomore'\n",
       "6. 'Sophomore'\n",
       "7. 'Senior'\n",
       "8. 'Senior'\n",
       "\n",
       "\n"
      ],
      "text/plain": [
       "[1] \"Freshman\"  \"Freshman\"  \"Junior\"    \"Junior\"    \"Sophomore\" \"Sophomore\"\n",
       "[7] \"Senior\"    \"Senior\"   "
      ]
     },
     "metadata": {},
     "output_type": "display_data"
    },
    {
     "data": {
      "text/html": [
       "<table>\n",
       "<thead><tr><th></th><th scope=col>aFreshman</th><th scope=col>aJunior</th><th scope=col>aSenior</th><th scope=col>aSophomore</th></tr></thead>\n",
       "<tbody>\n",
       "\t<tr><th scope=row>1</th><td>1</td><td>0</td><td>0</td><td>0</td></tr>\n",
       "\t<tr><th scope=row>2</th><td>1</td><td>0</td><td>0</td><td>0</td></tr>\n",
       "\t<tr><th scope=row>3</th><td>0</td><td>1</td><td>0</td><td>0</td></tr>\n",
       "\t<tr><th scope=row>4</th><td>0</td><td>1</td><td>0</td><td>0</td></tr>\n",
       "\t<tr><th scope=row>5</th><td>0</td><td>0</td><td>0</td><td>1</td></tr>\n",
       "\t<tr><th scope=row>6</th><td>0</td><td>0</td><td>0</td><td>1</td></tr>\n",
       "\t<tr><th scope=row>7</th><td>0</td><td>0</td><td>1</td><td>0</td></tr>\n",
       "\t<tr><th scope=row>8</th><td>0</td><td>0</td><td>1</td><td>0</td></tr>\n",
       "</tbody>\n",
       "</table>\n"
      ],
      "text/latex": [
       "\\begin{tabular}{r|llll}\n",
       "  & aFreshman & aJunior & aSenior & aSophomore\\\\\n",
       "\\hline\n",
       "\t1 & 1 & 0 & 0 & 0\\\\\n",
       "\t2 & 1 & 0 & 0 & 0\\\\\n",
       "\t3 & 0 & 1 & 0 & 0\\\\\n",
       "\t4 & 0 & 1 & 0 & 0\\\\\n",
       "\t5 & 0 & 0 & 0 & 1\\\\\n",
       "\t6 & 0 & 0 & 0 & 1\\\\\n",
       "\t7 & 0 & 0 & 1 & 0\\\\\n",
       "\t8 & 0 & 0 & 1 & 0\\\\\n",
       "\\end{tabular}\n"
      ],
      "text/markdown": [
       "1. 1\n",
       "2. 1\n",
       "3. 0\n",
       "4. 0\n",
       "5. 0\n",
       "6. 0\n",
       "7. 0\n",
       "8. 0\n",
       "9. 0\n",
       "10. 0\n",
       "11. 1\n",
       "12. 1\n",
       "13. 0\n",
       "14. 0\n",
       "15. 0\n",
       "16. 0\n",
       "17. 0\n",
       "18. 0\n",
       "19. 0\n",
       "20. 0\n",
       "21. 0\n",
       "22. 0\n",
       "23. 1\n",
       "24. 1\n",
       "25. 0\n",
       "26. 0\n",
       "27. 0\n",
       "28. 0\n",
       "29. 1\n",
       "30. 1\n",
       "31. 0\n",
       "32. 0\n",
       "\n",
       "\n"
      ],
      "text/plain": [
       "  aFreshman aJunior aSenior aSophomore\n",
       "1 1         0       0       0         \n",
       "2 1         0       0       0         \n",
       "3 0         1       0       0         \n",
       "4 0         1       0       0         \n",
       "5 0         0       0       1         \n",
       "6 0         0       0       1         \n",
       "7 0         0       1       0         \n",
       "8 0         0       1       0         "
      ]
     },
     "metadata": {},
     "output_type": "display_data"
    }
   ],
   "source": [
    "# Code example\n",
    "a\n",
    "model.matrix(~a-1)"
   ]
  },
  {
   "cell_type": "markdown",
   "metadata": {},
   "source": [
    "\n",
    "## Terms to Review\n",
    "\n",
    "* Vectorization\n",
    "* Initialization\n",
    "* Apply family\n",
    "* Filtering\n",
    "* Subsetting\n",
    "* Merging\n",
    "* Joining\n",
    "* Mutating\n",
    "* Summarizing\n",
    "* Binning\n",
    "* Normalizing\n",
    "* Standardizing\n",
    "* Ordering\n",
    "* Dummy variable"
   ]
  },
  {
   "cell_type": "markdown",
   "metadata": {},
   "source": [
    "## Sources\n",
    "\n",
    "[1] http://yetanothermathprogrammingconsultant.blogspot.com/2016/06/loops-considered-harmful.html\n",
    "\n",
    "[2] http://www.noamross.net/blog/2014/4/16/vectorization-in-r--why.html\n",
    "\n",
    "[3] https://github.com/jimhester/lintr\n",
    "\n",
    "[4] https://cran.r-project.org/doc/contrib/de_Jonge+van_der_Loo-Introduction_to_data_cleaning_with_R.pdf\n",
    "\n",
    "[5] http://data-informed.com/how-to-improve-machine-learning-tricks-and-tips-for-feature-engineering\n"
   ]
  }
 ],
 "metadata": {
  "anaconda-cloud": {},
  "kernelspec": {
   "display_name": "R",
   "language": "R",
   "name": "ir"
  },
  "language_info": {
   "codemirror_mode": "r",
   "file_extension": ".r",
   "mimetype": "text/x-r-source",
   "name": "R",
   "pygments_lexer": "r",
   "version": "3.3.1"
  }
 },
 "nbformat": 4,
 "nbformat_minor": 0
}
