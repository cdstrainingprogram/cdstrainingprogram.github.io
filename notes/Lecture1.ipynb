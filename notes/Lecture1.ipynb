{
 "cells": [
  {
   "cell_type": "markdown",
   "metadata": {},
   "source": [
    "# Lecture 1: Introduction to R, a statistical programming language\n",
    "\n",
    "Welcome to the Cornell Data Science Training program! Through these lectures and exercises, we aim to teach you basic data science concepts and how to apply them using a data science language. The topics that we will cover will include, but will not be limited to: \n",
    "\n",
    "* Data Cleaning and Manipulation\n",
    "* Data visualization\n",
    "* Supervised Learning Algorithms\n",
    "* Unsupervised Learning\n",
    "* Text Analysis\n",
    "* Big Data Tools\n",
    "\n",
    "We'll start with the basics of the language, to advanced applications in more advanced concepts. By the end of the course, you will have the foundation and basic skills to contribute to any subteam on Cornell Data Science, and to your career in this explosive field.\n"
   ]
  },
  {
   "cell_type": "markdown",
   "metadata": {},
   "source": [
    "## R vs. Other Languages\n",
    "One of the most-asked questions to those dabbling in data science is the choice of programming language to use for data analysis. There are several contenders fighting to become the dominant data science language in both academia and industry. These languages include __Python, R, Julia, Scala, C++, Java__ and the list goes on.\n",
    "Our language of choice for this course is __R__. There are several reasons for our choice. \n",
    "1. R is the most popular language(and not python!) for data science in industry. [1]\n",
    "2. For those first entering data science, the functional approach of R can prove easier. [2] \n",
    "3. The strong support R has in academia allows it to have some of the most diverse set of packages and robust support community both online and offline.\n",
    "\n",
    "__With that said, R has some quirks.__  \n",
    "1. It is not very compatible with Java and other traditional OO languages. This makes R used more for standalone analytics - for finance, consulting, scientific research, for example - rather than as part of a software product cycle.\n",
    "2. For reasons related to the point above, the computer science and tech industry does tend to prefer Python.\n",
    "3. R is a high-level language - a wrapper language with C and Fortran inside - and thus can prove extremely slow compared to other languages\n",
    "4. The functional approach proves difficult to adapt to for people coming from OO background.\n",
    "\n",
    "However, we do wish to emphasize that __choice of starting language is an irrelevant discussion__. It matters not what you start with. A career in data science involves knowledge of more than one language. There are so many relevant areas of data science that are governed by a large variety of languages, and by no means should you limit yourself to learning one.\n",
    "\n",
    "Let's get started coding! Download R (https://cran.rstudio.com/) and RStudio (https://www.rstudio.com/products/rstudio/download/)! "
   ]
  },
  {
   "cell_type": "markdown",
   "metadata": {},
   "source": [
    "## R Data Structures\n",
    "\n",
    "In any programming language, we have the notion of ‘data types’ and ‘data structures’. This is because programs manipulate data, and different kinds of data require different manipulations. For example, numbers are treated differently than characters (or strings of characters) and single numbers are treated differently than lists of numbers (vectors) or arrays of numbers (matrices).\n",
    "\n",
    "The following are some simple R data types:\n",
    "\n",
    "* numeric (1,2.7,9001)\n",
    "* character (\"Hello World\")\n",
    "* logical (TRUE or FALSE)\n",
    "\n",
    "(Show what modes can hold with chart from http://bxhorn.com/data-modes-and-classes/)\n",
    "\n",
    "These data types can be combined to form data structures:"
   ]
  },
  {
   "cell_type": "markdown",
   "metadata": {},
   "source": [
    "## Vectors \n",
    "Vectors are the most basic data structure in R. we can understand vectors as arrays for those familiar with programming, or as sets for those more familiar with mathematics. Usually in R, a vector refers to grouped elements of the same data type; vectors are usually created using the c() or vector() function. \n",
    "\n",
    "* c(): concatenation function\n",
    "* vector(length, mode): a function used to initialize a vector of certain length and certain data type"
   ]
  },
  {
   "cell_type": "code",
   "execution_count": 1,
   "metadata": {
    "collapsed": false
   },
   "outputs": [
    {
     "name": "stdout",
     "output_type": "stream",
     "text": [
      "[1] \"c() function example\"\n",
      "[1] 1 5 4 9 0\n"
     ]
    }
   ],
   "source": [
    "print(\"c() function example\")\n",
    "x <- c(1, 5, 4, 9, 0)\n",
    "print(x)"
   ]
  },
  {
   "cell_type": "code",
   "execution_count": 2,
   "metadata": {
    "collapsed": false
   },
   "outputs": [
    {
     "name": "stdout",
     "output_type": "stream",
     "text": [
      "[1] \"vector() function example\"\n",
      "[1] 1 5 4 9 0\n"
     ]
    }
   ],
   "source": [
    "# or\n",
    "x <- vector(length=5, mode = \"numeric\")\n",
    "x <- c(1,5,4,9,0)\n",
    "print(\"vector() function example\")\n",
    "print(x)"
   ]
  },
  {
   "cell_type": "markdown",
   "metadata": {},
   "source": [
    "Another way to make a vector is using the seq() function. More complex sequences can be created using the seq() function, like defining number of points in an interval, or the step size. "
   ]
  },
  {
   "cell_type": "code",
   "execution_count": 3,
   "metadata": {
    "collapsed": false
   },
   "outputs": [
    {
     "data": {
      "text/html": [
       "<ol class=list-inline>\n",
       "\t<li>1</li>\n",
       "\t<li>2</li>\n",
       "\t<li>3</li>\n",
       "\t<li>4</li>\n",
       "\t<li>5</li>\n",
       "\t<li>6</li>\n",
       "</ol>\n"
      ],
      "text/latex": [
       "\\begin{enumerate*}\n",
       "\\item 1\n",
       "\\item 2\n",
       "\\item 3\n",
       "\\item 4\n",
       "\\item 5\n",
       "\\item 6\n",
       "\\end{enumerate*}\n"
      ],
      "text/markdown": [
       "1. 1\n",
       "2. 2\n",
       "3. 3\n",
       "4. 4\n",
       "5. 5\n",
       "6. 6\n",
       "\n",
       "\n"
      ],
      "text/plain": [
       "[1] 1 2 3 4 5 6"
      ]
     },
     "metadata": {},
     "output_type": "display_data"
    }
   ],
   "source": [
    "seq(1,6)                # specify endpoints for integer sequence"
   ]
  },
  {
   "cell_type": "code",
   "execution_count": 4,
   "metadata": {
    "collapsed": false
   },
   "outputs": [
    {
     "data": {
      "text/html": [
       "<ol class=list-inline>\n",
       "\t<li>1</li>\n",
       "\t<li>1.2</li>\n",
       "\t<li>1.4</li>\n",
       "\t<li>1.6</li>\n",
       "\t<li>1.8</li>\n",
       "\t<li>2</li>\n",
       "\t<li>2.2</li>\n",
       "\t<li>2.4</li>\n",
       "\t<li>2.6</li>\n",
       "\t<li>2.8</li>\n",
       "\t<li>3</li>\n",
       "</ol>\n"
      ],
      "text/latex": [
       "\\begin{enumerate*}\n",
       "\\item 1\n",
       "\\item 1.2\n",
       "\\item 1.4\n",
       "\\item 1.6\n",
       "\\item 1.8\n",
       "\\item 2\n",
       "\\item 2.2\n",
       "\\item 2.4\n",
       "\\item 2.6\n",
       "\\item 2.8\n",
       "\\item 3\n",
       "\\end{enumerate*}\n"
      ],
      "text/markdown": [
       "1. 1\n",
       "2. 1.2\n",
       "3. 1.4\n",
       "4. 1.6\n",
       "5. 1.8\n",
       "6. 2\n",
       "7. 2.2\n",
       "8. 2.4\n",
       "9. 2.6\n",
       "10. 2.8\n",
       "11. 3\n",
       "\n",
       "\n"
      ],
      "text/plain": [
       " [1] 1.0 1.2 1.4 1.6 1.8 2.0 2.2 2.4 2.6 2.8 3.0"
      ]
     },
     "metadata": {},
     "output_type": "display_data"
    }
   ],
   "source": [
    "seq(1,3, by=0.2)        # specify intervals for a sequence with values in the interval (1,3) included"
   ]
  },
  {
   "cell_type": "code",
   "execution_count": 5,
   "metadata": {
    "collapsed": false
   },
   "outputs": [
    {
     "data": {
      "text/html": [
       "<ol class=list-inline>\n",
       "\t<li>1</li>\n",
       "\t<li>2</li>\n",
       "\t<li>3</li>\n",
       "\t<li>4</li>\n",
       "\t<li>5</li>\n",
       "\t<li>6</li>\n",
       "</ol>\n"
      ],
      "text/latex": [
       "\\begin{enumerate*}\n",
       "\\item 1\n",
       "\\item 2\n",
       "\\item 3\n",
       "\\item 4\n",
       "\\item 5\n",
       "\\item 6\n",
       "\\end{enumerate*}\n"
      ],
      "text/markdown": [
       "1. 1\n",
       "2. 2\n",
       "3. 3\n",
       "4. 4\n",
       "5. 5\n",
       "6. 6\n",
       "\n",
       "\n"
      ],
      "text/plain": [
       "[1] 1 2 3 4 5 6"
      ]
     },
     "metadata": {},
     "output_type": "display_data"
    }
   ],
   "source": [
    "c(1:6)                  # Specify a vector with integers 1 to 6"
   ]
  },
  {
   "cell_type": "code",
   "execution_count": 6,
   "metadata": {
    "collapsed": false
   },
   "outputs": [
    {
     "data": {
      "text/html": [
       "<ol class=list-inline>\n",
       "\t<li>1</li>\n",
       "\t<li>2.33333333333333</li>\n",
       "\t<li>3.66666666666667</li>\n",
       "\t<li>5</li>\n",
       "</ol>\n"
      ],
      "text/latex": [
       "\\begin{enumerate*}\n",
       "\\item 1\n",
       "\\item 2.33333333333333\n",
       "\\item 3.66666666666667\n",
       "\\item 5\n",
       "\\end{enumerate*}\n"
      ],
      "text/markdown": [
       "1. 1\n",
       "2. 2.33333333333333\n",
       "3. 3.66666666666667\n",
       "4. 5\n",
       "\n",
       "\n"
      ],
      "text/plain": [
       "[1] 1.000000 2.333333 3.666667 5.000000"
      ]
     },
     "metadata": {},
     "output_type": "display_data"
    }
   ],
   "source": [
    "seq(1, 5, length.out=4) # specify length of the vector"
   ]
  },
  {
   "cell_type": "markdown",
   "metadata": {},
   "source": [
    "## Lists\n",
    "List is a data structure having components of mixed data types.\n",
    "A vector having all elements of the same type is called an atomic vector but a vector having elements of different type, and even different data structure is a __list__.  \n",
    "We can check whether an item is a list or vector using the typeof() function.  \n",
    "Below, we create a list x, of three components with data types double, logical, and integer vector respectively."
   ]
  },
  {
   "cell_type": "code",
   "execution_count": 20,
   "metadata": {
    "collapsed": true
   },
   "outputs": [],
   "source": [
    "x <- list(\"a\" = 2.5, \"b\" = TRUE, \"c\" = seq(1,3)) "
   ]
  },
  {
   "cell_type": "markdown",
   "metadata": {},
   "source": [
    "Its structure can be examined with the str() function."
   ]
  },
  {
   "cell_type": "code",
   "execution_count": 21,
   "metadata": {
    "collapsed": false
   },
   "outputs": [
    {
     "name": "stdout",
     "output_type": "stream",
     "text": [
      "List of 3\n",
      " $ a: num 2.5\n",
      " $ b: logi TRUE\n",
      " $ c: int [1:3] 1 2 3\n"
     ]
    }
   ],
   "source": [
    "str(x)"
   ]
  },
  {
   "cell_type": "markdown",
   "metadata": {},
   "source": [
    "In this example, a, b and c are called tags which makes it easier to reference the components of the list. Tags are optional. We can create the same list without tags. R will use numeric indices instead.  \n",
    "So how do we access components of a list? Below are some methods."
   ]
  },
  {
   "cell_type": "code",
   "execution_count": 7,
   "metadata": {
    "collapsed": false
   },
   "outputs": [
    {
     "data": {
      "text/html": [
       "<dl>\n",
       "\t<dt>$a</dt>\n",
       "\t\t<dd>2.5</dd>\n",
       "\t<dt>$b</dt>\n",
       "\t\t<dd>TRUE</dd>\n",
       "</dl>\n"
      ],
      "text/latex": [
       "\\begin{description}\n",
       "\\item[\\$a] 2.5\n",
       "\\item[\\$b] TRUE\n",
       "\\end{description}\n"
      ],
      "text/markdown": [
       "$a\n",
       ":   2.5\n",
       "$b\n",
       ":   TRUE\n",
       "\n",
       "\n"
      ],
      "text/plain": [
       "$a\n",
       "[1] 2.5\n",
       "\n",
       "$b\n",
       "[1] TRUE\n"
      ]
     },
     "metadata": {},
     "output_type": "display_data"
    }
   ],
   "source": [
    "x <- list(\"a\" = 2.5, \"b\" = TRUE, \"c\" = seq(1,3))\n",
    "x[c(1:2)]     # index using integer vector"
   ]
  },
  {
   "cell_type": "code",
   "execution_count": 8,
   "metadata": {
    "collapsed": false
   },
   "outputs": [
    {
     "data": {
      "text/html": [
       "<strong>$a</strong> = 2.5"
      ],
      "text/latex": [
       "\\textbf{\\$a} = 2.5"
      ],
      "text/markdown": [
       "**$a** = 2.5"
      ],
      "text/plain": [
       "$a\n",
       "[1] 2.5\n"
      ]
     },
     "metadata": {},
     "output_type": "display_data"
    }
   ],
   "source": [
    "x[c(T,F,F)]   # index using logical vector"
   ]
  },
  {
   "cell_type": "code",
   "execution_count": 9,
   "metadata": {
    "collapsed": false
   },
   "outputs": [
    {
     "data": {
      "text/html": [
       "<dl>\n",
       "\t<dt>$a</dt>\n",
       "\t\t<dd>2.5</dd>\n",
       "\t<dt>$c</dt>\n",
       "\t\t<dd><ol class=list-inline>\n",
       "\t<li>1</li>\n",
       "\t<li>2</li>\n",
       "\t<li>3</li>\n",
       "</ol>\n",
       "</dd>\n",
       "</dl>\n"
      ],
      "text/latex": [
       "\\begin{description}\n",
       "\\item[\\$a] 2.5\n",
       "\\item[\\$c] \\begin{enumerate*}\n",
       "\\item 1\n",
       "\\item 2\n",
       "\\item 3\n",
       "\\end{enumerate*}\n",
       "\n",
       "\\end{description}\n"
      ],
      "text/markdown": [
       "$a\n",
       ":   2.5\n",
       "$c\n",
       ":   1. 1\n",
       "2. 2\n",
       "3. 3\n",
       "\n",
       "\n",
       "\n",
       "\n",
       "\n"
      ],
      "text/plain": [
       "$a\n",
       "[1] 2.5\n",
       "\n",
       "$c\n",
       "[1] 1 2 3\n"
      ]
     },
     "metadata": {},
     "output_type": "display_data"
    }
   ],
   "source": [
    "x[c(\"a\",\"c\")] # index using character vector"
   ]
  },
  {
   "cell_type": "markdown",
   "metadata": {},
   "source": [
    "Indexing with [ as shown above will give us sublist, not the content inside the component. To retrieve the content, we need to use [[ or $."
   ]
  },
  {
   "cell_type": "code",
   "execution_count": 7,
   "metadata": {
    "collapsed": false
   },
   "outputs": [
    {
     "data": {
      "text/html": [
       "<strong>$a</strong> = 2.5"
      ],
      "text/latex": [
       "\\textbf{\\$a} = 2.5"
      ],
      "text/markdown": [
       "**$a** = 2.5"
      ],
      "text/plain": [
       "$a\n",
       "[1] 2.5\n"
      ]
     },
     "metadata": {},
     "output_type": "display_data"
    },
    {
     "data": {
      "text/html": [
       "2.5"
      ],
      "text/latex": [
       "2.5"
      ],
      "text/markdown": [
       "2.5"
      ],
      "text/plain": [
       "[1] 2.5"
      ]
     },
     "metadata": {},
     "output_type": "display_data"
    },
    {
     "data": {
      "text/html": [
       "2.5"
      ],
      "text/latex": [
       "2.5"
      ],
      "text/markdown": [
       "2.5"
      ],
      "text/plain": [
       "[1] 2.5"
      ]
     },
     "metadata": {},
     "output_type": "display_data"
    }
   ],
   "source": [
    "x[\"a\"]\n",
    "x[[\"a\"]]\n",
    "x$a"
   ]
  },
  {
   "cell_type": "markdown",
   "metadata": {},
   "source": [
    "## Matrices\n",
    "A matrix is a two dimensional data structure, they're similar to vectors but additionally contains the dimension attribute. All attributes of an object can be checked with the attributes() function (dimension can be checked directly with the dim() function). We can check if a variable is a matrix or not with the class() function.\n",
    "\n",
    "Matrices can be created using the matrix() function.\n",
    "Dimension of the matrix can be defined by passing appropriate value for arguments nrow and ncol.\n",
    "\n",
    "Providing value for both dimension is not necessary. If one of the dimension is provided, the other is inferred from length of the data."
   ]
  },
  {
   "cell_type": "code",
   "execution_count": 38,
   "metadata": {
    "collapsed": false
   },
   "outputs": [
    {
     "data": {
      "text/html": [
       "<table>\n",
       "<tbody>\n",
       "\t<tr><td>1</td><td>4</td><td>7</td></tr>\n",
       "\t<tr><td>2</td><td>5</td><td>8</td></tr>\n",
       "\t<tr><td>3</td><td>6</td><td>9</td></tr>\n",
       "</tbody>\n",
       "</table>\n"
      ],
      "text/latex": [
       "\\begin{tabular}{lll}\n",
       "\t 1 & 4 & 7\\\\\n",
       "\t 2 & 5 & 8\\\\\n",
       "\t 3 & 6 & 9\\\\\n",
       "\\end{tabular}\n"
      ],
      "text/markdown": [
       "1. 1\n",
       "2. 2\n",
       "3. 3\n",
       "4. 4\n",
       "5. 5\n",
       "6. 6\n",
       "7. 7\n",
       "8. 8\n",
       "9. 9\n",
       "\n",
       "\n"
      ],
      "text/plain": [
       "     [,1] [,2] [,3]\n",
       "[1,] 1    4    7   \n",
       "[2,] 2    5    8   \n",
       "[3,] 3    6    9   "
      ]
     },
     "metadata": {},
     "output_type": "display_data"
    }
   ],
   "source": [
    "matrix(1:9, nrow = 3, ncol = 3) # same as matrix(1:9, nrow = 3)"
   ]
  },
  {
   "cell_type": "code",
   "execution_count": 39,
   "metadata": {
    "collapsed": false
   },
   "outputs": [
    {
     "data": {
      "text/html": [
       "<table>\n",
       "<tbody>\n",
       "\t<tr><td>1</td><td>2</td><td>3</td></tr>\n",
       "\t<tr><td>4</td><td>5</td><td>6</td></tr>\n",
       "\t<tr><td>7</td><td>8</td><td>9</td></tr>\n",
       "</tbody>\n",
       "</table>\n"
      ],
      "text/latex": [
       "\\begin{tabular}{lll}\n",
       "\t 1 & 2 & 3\\\\\n",
       "\t 4 & 5 & 6\\\\\n",
       "\t 7 & 8 & 9\\\\\n",
       "\\end{tabular}\n"
      ],
      "text/markdown": [
       "1. 1\n",
       "2. 4\n",
       "3. 7\n",
       "4. 2\n",
       "5. 5\n",
       "6. 8\n",
       "7. 3\n",
       "8. 6\n",
       "9. 9\n",
       "\n",
       "\n"
      ],
      "text/plain": [
       "     [,1] [,2] [,3]\n",
       "[1,] 1    2    3   \n",
       "[2,] 4    5    6   \n",
       "[3,] 7    8    9   "
      ]
     },
     "metadata": {},
     "output_type": "display_data"
    }
   ],
   "source": [
    "matrix(1:9, nrow=3, byrow=TRUE) # fill matrix row-wise"
   ]
  },
  {
   "cell_type": "markdown",
   "metadata": {},
   "source": [
    "It is possible to name the rows and columns of matrix during creation by passing a 2-element list to the argument *dimnames*."
   ]
  },
  {
   "cell_type": "code",
   "execution_count": 41,
   "metadata": {
    "collapsed": false
   },
   "outputs": [
    {
     "data": {
      "text/html": [
       "<table>\n",
       "<thead><tr><th></th><th scope=col>A</th><th scope=col>B</th><th scope=col>C</th></tr></thead>\n",
       "<tbody>\n",
       "\t<tr><th scope=row>X</th><td>1</td><td>4</td><td>7</td></tr>\n",
       "\t<tr><th scope=row>Y</th><td>2</td><td>5</td><td>8</td></tr>\n",
       "\t<tr><th scope=row>Z</th><td>3</td><td>6</td><td>9</td></tr>\n",
       "</tbody>\n",
       "</table>\n"
      ],
      "text/latex": [
       "\\begin{tabular}{r|lll}\n",
       "  & A & B & C\\\\\n",
       "\\hline\n",
       "\tX & 1 & 4 & 7\\\\\n",
       "\tY & 2 & 5 & 8\\\\\n",
       "\tZ & 3 & 6 & 9\\\\\n",
       "\\end{tabular}\n"
      ],
      "text/markdown": [
       "1. 1\n",
       "2. 2\n",
       "3. 3\n",
       "4. 4\n",
       "5. 5\n",
       "6. 6\n",
       "7. 7\n",
       "8. 8\n",
       "9. 9\n",
       "\n",
       "\n"
      ],
      "text/plain": [
       "  A B C\n",
       "X 1 4 7\n",
       "Y 2 5 8\n",
       "Z 3 6 9"
      ]
     },
     "metadata": {},
     "output_type": "display_data"
    }
   ],
   "source": [
    "x <- matrix(1:9, nrow = 3, dimnames = list(c(\"X\",\"Y\",\"Z\"), c(\"A\",\"B\",\"C\")))\n",
    "x"
   ]
  },
  {
   "cell_type": "markdown",
   "metadata": {},
   "source": [
    "Another way of creating a matrix is by using functions cbind() and rbind() as in column bind and row bind, or from a vector by setting its dimension using dim()."
   ]
  },
  {
   "cell_type": "code",
   "execution_count": 8,
   "metadata": {
    "collapsed": false
   },
   "outputs": [
    {
     "data": {
      "text/html": [
       "<table>\n",
       "<tbody>\n",
       "\t<tr><td>1</td><td>4</td></tr>\n",
       "\t<tr><td>2</td><td>5</td></tr>\n",
       "\t<tr><td>3</td><td>6</td></tr>\n",
       "</tbody>\n",
       "</table>\n"
      ],
      "text/latex": [
       "\\begin{tabular}{ll}\n",
       "\t 1 & 4\\\\\n",
       "\t 2 & 5\\\\\n",
       "\t 3 & 6\\\\\n",
       "\\end{tabular}\n"
      ],
      "text/markdown": [
       "1. 1\n",
       "2. 2\n",
       "3. 3\n",
       "4. 4\n",
       "5. 5\n",
       "6. 6\n",
       "\n",
       "\n"
      ],
      "text/plain": [
       "     [,1] [,2]\n",
       "[1,]    1    4\n",
       "[2,]    2    5\n",
       "[3,]    3    6"
      ]
     },
     "metadata": {},
     "output_type": "display_data"
    },
    {
     "data": {
      "text/html": [
       "<table>\n",
       "<tbody>\n",
       "\t<tr><td>1</td><td>2</td><td>3</td></tr>\n",
       "\t<tr><td>4</td><td>5</td><td>6</td></tr>\n",
       "</tbody>\n",
       "</table>\n"
      ],
      "text/latex": [
       "\\begin{tabular}{lll}\n",
       "\t 1 & 2 & 3\\\\\n",
       "\t 4 & 5 & 6\\\\\n",
       "\\end{tabular}\n"
      ],
      "text/markdown": [
       "1. 1\n",
       "2. 4\n",
       "3. 2\n",
       "4. 5\n",
       "5. 3\n",
       "6. 6\n",
       "\n",
       "\n"
      ],
      "text/plain": [
       "     [,1] [,2] [,3]\n",
       "[1,]    1    2    3\n",
       "[2,]    4    5    6"
      ]
     },
     "metadata": {},
     "output_type": "display_data"
    }
   ],
   "source": [
    "cbind(c(1,2,3),c(4,5,6))\n",
    "rbind(c(1,2,3),c(4,5,6))\n",
    "x <- c(1,2,3,4,5,6)\n",
    "dim(x) <- c(2,3)\n",
    "x"
   ]
  },
  {
   "cell_type": "markdown",
   "metadata": {},
   "source": [
    "## Data Frames\n",
    "\n",
    "Data frames are similar to matrices, so many of the we're about to use also work on matrices.\n",
    "\n",
    "The key difference between the two is that data frames, unlike matrices, can have different columns store different modes (numeric, character, factor, etc.). This makes data frames extremely powerful, since it iand the most commonly used data type.\n",
    "\n",
    "Below we create a simple data frame, and analyze it using some essential R functions."
   ]
  },
  {
   "cell_type": "code",
   "execution_count": 11,
   "metadata": {
    "collapsed": false
   },
   "outputs": [
    {
     "data": {
      "text/html": [
       "<table>\n",
       "<thead><tr><th></th><th scope=col>ID</th><th scope=col>Age</th><th scope=col>Name</th></tr></thead>\n",
       "<tbody>\n",
       "\t<tr><th scope=row>1</th><td>1   </td><td>21  </td><td>John</td></tr>\n",
       "\t<tr><th scope=row>2</th><td>2   </td><td>15  </td><td>Dora</td></tr>\n",
       "</tbody>\n",
       "</table>\n"
      ],
      "text/latex": [
       "\\begin{tabular}{r|lll}\n",
       "  & ID & Age & Name\\\\\n",
       "\\hline\n",
       "\t1 & 1    & 21   & John\\\\\n",
       "\t2 & 2    & 15   & Dora\\\\\n",
       "\\end{tabular}\n"
      ],
      "text/plain": [
       "  ID Age Name\n",
       "1  1  21 John\n",
       "2  2  15 Dora"
      ]
     },
     "metadata": {},
     "output_type": "display_data"
    },
    {
     "name": "stdout",
     "output_type": "stream",
     "text": [
      "'data.frame':\t2 obs. of  3 variables:\n",
      " $ ID  : int  1 2\n",
      " $ Age : num  21 15\n",
      " $ Name: chr  \"John\" \"Dora\"\n"
     ]
    },
    {
     "data": {
      "text/html": [
       "<ol class=list-inline>\n",
       "\t<li>\"ID\"</li>\n",
       "\t<li>\"Age\"</li>\n",
       "\t<li>\"Name\"</li>\n",
       "</ol>\n"
      ],
      "text/latex": [
       "\\begin{enumerate*}\n",
       "\\item \"ID\"\n",
       "\\item \"Age\"\n",
       "\\item \"Name\"\n",
       "\\end{enumerate*}\n"
      ],
      "text/markdown": [
       "1. \"ID\"\n",
       "2. \"Age\"\n",
       "3. \"Name\"\n",
       "\n",
       "\n"
      ],
      "text/plain": [
       "[1] \"ID\"   \"Age\"  \"Name\""
      ]
     },
     "metadata": {},
     "output_type": "display_data"
    },
    {
     "data": {
      "text/html": [
       "3"
      ],
      "text/latex": [
       "3"
      ],
      "text/markdown": [
       "3"
      ],
      "text/plain": [
       "[1] 3"
      ]
     },
     "metadata": {},
     "output_type": "display_data"
    },
    {
     "data": {
      "text/html": [
       "2"
      ],
      "text/latex": [
       "2"
      ],
      "text/markdown": [
       "2"
      ],
      "text/plain": [
       "[1] 2"
      ]
     },
     "metadata": {},
     "output_type": "display_data"
    }
   ],
   "source": [
    "x <- data.frame(\"ID\" = 1:2, \"Age\" = c(21,15), \"Name\" = c(\"John\",\"Dora\"), stringsAsFactors=FALSE) #make the data frame\n",
    "x\n",
    "str(x)   # structure of x\n",
    "names(x) # names of each column\n",
    "ncol(x)  # number of columns\n",
    "nrow(x)  # number of rows"
   ]
  },
  {
   "cell_type": "markdown",
   "metadata": {},
   "source": [
    "How to access elements of a data frame? We can access elements of a matrix using the square bracket [ indexing method. Elements can be accessed as var[row, column]. Here rows and columns are vectors."
   ]
  },
  {
   "cell_type": "code",
   "execution_count": 10,
   "metadata": {
    "collapsed": false
   },
   "outputs": [
    {
     "data": {
      "text/html": [
       "<table>\n",
       "<thead><tr><th></th><th scope=col>Age</th><th scope=col>Name</th></tr></thead>\n",
       "<tbody>\n",
       "\t<tr><th scope=row>1</th><td>21  </td><td>John</td></tr>\n",
       "\t<tr><th scope=row>2</th><td>15  </td><td>Dora</td></tr>\n",
       "</tbody>\n",
       "</table>\n"
      ],
      "text/latex": [
       "\\begin{tabular}{r|ll}\n",
       "  & Age & Name\\\\\n",
       "\\hline\n",
       "\t1 & 21   & John\\\\\n",
       "\t2 & 15   & Dora\\\\\n",
       "\\end{tabular}\n"
      ],
      "text/plain": [
       "  Age Name\n",
       "1  21 John\n",
       "2  15 Dora"
      ]
     },
     "metadata": {},
     "output_type": "display_data"
    },
    {
     "data": {
      "text/html": [
       "<table>\n",
       "<thead><tr><th></th><th scope=col>ID</th><th scope=col>Age</th><th scope=col>Name</th></tr></thead>\n",
       "<tbody>\n",
       "\t<tr><th scope=row>1</th><td>1   </td><td>21  </td><td>John</td></tr>\n",
       "</tbody>\n",
       "</table>\n"
      ],
      "text/latex": [
       "\\begin{tabular}{r|lll}\n",
       "  & ID & Age & Name\\\\\n",
       "\\hline\n",
       "\t1 & 1    & 21   & John\\\\\n",
       "\\end{tabular}\n"
      ],
      "text/plain": [
       "  ID Age Name\n",
       "1  1  21 John"
      ]
     },
     "metadata": {},
     "output_type": "display_data"
    }
   ],
   "source": [
    "x[c(1,2),c(2,3)]    # select rows 1 & 2 and columns 2 & 3\n",
    "x[1,]    # leaving column field blank will select entire columns\n",
    "x[,]    # leaving row as well as column field blank will select entire data frame\n",
    "x[-1,]    # select all rows except first"
   ]
  },
  {
   "cell_type": "code",
   "execution_count": 93,
   "metadata": {
    "collapsed": false
   },
   "outputs": [
    {
     "data": {
      "text/html": [
       "John"
      ],
      "text/latex": [
       "John"
      ],
      "text/markdown": [
       "John"
      ],
      "text/plain": [
       "[1] John\n",
       "Levels: Dora John"
      ]
     },
     "metadata": {},
     "output_type": "display_data"
    }
   ],
   "source": [
    "x[1,\"Name\"]"
   ]
  },
  {
   "cell_type": "markdown",
   "metadata": {},
   "source": [
    "Data frames are also easy to modify, or add components to."
   ]
  },
  {
   "cell_type": "code",
   "execution_count": 94,
   "metadata": {
    "collapsed": false
   },
   "outputs": [
    {
     "data": {
      "text/html": [
       "<table>\n",
       "<thead><tr><th scope=col>ID</th><th scope=col>Age</th><th scope=col>Name</th></tr></thead>\n",
       "<tbody>\n",
       "\t<tr><td>1   </td><td>20  </td><td>John</td></tr>\n",
       "\t<tr><td>2   </td><td>15  </td><td>Dora</td></tr>\n",
       "</tbody>\n",
       "</table>\n"
      ],
      "text/latex": [
       "\\begin{tabular}{r|lll}\n",
       " ID & Age & Name\\\\\n",
       "\\hline\n",
       "\t 1    & 20   & John\\\\\n",
       "\t 2    & 15   & Dora\\\\\n",
       "\\end{tabular}\n"
      ],
      "text/plain": [
       "  ID Age Name\n",
       "1 1  20  John\n",
       "2 2  15  Dora"
      ]
     },
     "metadata": {},
     "output_type": "display_data"
    }
   ],
   "source": [
    "x[1,\"Age\"] <- 20; x #modify John's Age"
   ]
  },
  {
   "cell_type": "markdown",
   "metadata": {},
   "source": [
    "Rows can be added to a data frame using the rbind() function."
   ]
  },
  {
   "cell_type": "code",
   "execution_count": 109,
   "metadata": {
    "collapsed": false
   },
   "outputs": [
    {
     "data": {
      "text/html": [
       "<table>\n",
       "<thead><tr><th scope=col>ID</th><th scope=col>Age</th><th scope=col>Name</th></tr></thead>\n",
       "<tbody>\n",
       "\t<tr><td>1   </td><td>21  </td><td>John</td></tr>\n",
       "\t<tr><td>2   </td><td>15  </td><td>Dora</td></tr>\n",
       "\t<tr><td>3   </td><td>16  </td><td>Paul</td></tr>\n",
       "</tbody>\n",
       "</table>\n"
      ],
      "text/latex": [
       "\\begin{tabular}{r|lll}\n",
       " ID & Age & Name\\\\\n",
       "\\hline\n",
       "\t 1    & 21   & John\\\\\n",
       "\t 2    & 15   & Dora\\\\\n",
       "\t 3    & 16   & Paul\\\\\n",
       "\\end{tabular}\n"
      ],
      "text/plain": [
       "  ID Age Name\n",
       "1 1  21  John\n",
       "2 2  15  Dora\n",
       "3 3  16  Paul"
      ]
     },
     "metadata": {},
     "output_type": "display_data"
    }
   ],
   "source": [
    "rbind(x,list(3,16,\"Paul\"))"
   ]
  },
  {
   "cell_type": "markdown",
   "metadata": {},
   "source": [
    "Similarly, we can add columns using cbind(), or If you want to delete a row or column, simply set its value to NULL."
   ]
  },
  {
   "cell_type": "code",
   "execution_count": 79,
   "metadata": {
    "collapsed": false
   },
   "outputs": [
    {
     "data": {
      "text/html": [
       "<table>\n",
       "<thead><tr><th scope=col>ID</th><th scope=col>Age</th><th scope=col>Name</th><th scope=col>State</th></tr></thead>\n",
       "<tbody>\n",
       "\t<tr><td>1   </td><td>20  </td><td>John</td><td>NY  </td></tr>\n",
       "\t<tr><td>2   </td><td>15  </td><td>Dora</td><td>FL  </td></tr>\n",
       "</tbody>\n",
       "</table>\n"
      ],
      "text/latex": [
       "\\begin{tabular}{r|llll}\n",
       " ID & Age & Name & State\\\\\n",
       "\\hline\n",
       "\t 1    & 20   & John & NY  \\\\\n",
       "\t 2    & 15   & Dora & FL  \\\\\n",
       "\\end{tabular}\n"
      ],
      "text/plain": [
       "  ID Age Name State\n",
       "1 1  20  John NY   \n",
       "2 2  15  Dora FL   "
      ]
     },
     "metadata": {},
     "output_type": "display_data"
    }
   ],
   "source": [
    "cbind(x,State=c(\"NY\",\"FL\"))\n",
    "x$State <- NULL\n",
    "x"
   ]
  },
  {
   "cell_type": "markdown",
   "metadata": {},
   "source": [
    "## Sources\n",
    "\n",
    "[1] https://www.datacamp.com/community/tutorials/r-or-python-for-data-analysis#gs.7s8630w\n",
    "\n",
    "[2] https://www.r-bloggers.com/why-you-should-learn-r-first-for-data-science/\n",
    "\n",
    "code examples adapted from programiz.com"
   ]
  }
 ],
 "metadata": {
  "anaconda-cloud": {},
  "kernelspec": {
   "display_name": "R",
   "language": "R",
   "name": "ir"
  },
  "language_info": {
   "codemirror_mode": "r",
   "file_extension": ".r",
   "mimetype": "text/x-r-source",
   "name": "R",
   "pygments_lexer": "r",
   "version": "3.3.1"
  }
 },
 "nbformat": 4,
 "nbformat_minor": 0
}
